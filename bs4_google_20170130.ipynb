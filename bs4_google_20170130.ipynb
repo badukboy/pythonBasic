{
 "cells": [
  {
   "cell_type": "code",
   "execution_count": 8,
   "metadata": {
    "collapsed": false
   },
   "outputs": [
    {
     "name": "stdout",
     "output_type": "stream",
     "text": [
      "<class 'bytes'>\n",
      "<class 'bs4.BeautifulSoup'>\n"
     ]
    }
   ],
   "source": [
    "from bs4 import BeautifulSoup\n",
    "import urllib.request as url\n",
    "\n",
    "r = url.urlopen('https://www.google.com').read()\n",
    "print(type(r))\n",
    "\n",
    "soup = BeautifulSoup(r,\"lxml\")\n",
    "print(type(soup))"
   ]
  },
  {
   "cell_type": "code",
   "execution_count": 10,
   "metadata": {
    "collapsed": false
   },
   "outputs": [
    {
     "name": "stdout",
     "output_type": "stream",
     "text": [
      "<!DOCTYPE html>\n",
      "<html itemscope=\"\" itemtype=\"http://schema.org/WebPage\" lang=\"ko\">\n",
      " <head>\n",
      "  <meta content=\"text/html; charset=utf-8\" http-equiv=\"Content-Type\"/>\n",
      "  <meta content=\"/images/branding/googleg/1x/googleg_standard_color_128dp.png\" itemprop=\"image\"/>\n",
      "  <title>\n",
      "   Google\n",
      "  </title>\n",
      "  <script>\n",
      "   (function(){window.google={kEI:'Fp5gWN_qCMu40ATg-5jIBA',kEXPI:'750721,1351903,1352298,1352397,3700332,4029815,4032677,4038012,4043492,4045841,4048347,4053233,4062180,4062666,4063220,4065786,4067860,4068550,4069839,4069840,4071842,4072602,4072773,4073405,4073726,4073959,4074955,4076096,4076931,4076999,4078430,4078438,4079107,4079442,4079894,4080167,4081037,4081038,4081423,4082057,4082217,4082618,4083476,4084343,4084956,4085181,4085681,4086011,4087708,4087718,4088154,4088341,4089003,4089009,4089105,4089538,4090090,4090093,4090105,4090657,4090806,4090823,4090831,4090850,4090884,4090894,4091060,8300096,8300273,8300480,8300483,8504111,8506615,8507380,8507419,8508059,8508065,8508118,8508957,8509066,8509243,10200083,13500021',authuser:0,kscs:'c9c918f0_24'};google.kHL='ko';})();(function(){google.lc=[];google.li=0;google.getEI=function(a){for(var b;a&&(!a.getAttribute||!(b=a.getAttribute(\"eid\")));)a=a.parentNode;return b||google.kEI};google.getLEI=function(a){for(var b=null;a&&(!a.getAttribute||!(b=a.getAttribute(\"leid\")));)a=a.parentNode;return b};google.https=function(){return\"https:\"==window.location.protocol};google.ml=function(){return null};google.wl=function(a,b){try{google.ml(Error(a),!1,b)}catch(c){}};google.time=function(){return(new Date).getTime()};google.log=function(a,b,c,d,g){a=google.logUrl(a,b,c,d,g);if(\"\"!=a){b=new Image;var e=google.lc,f=google.li;e[f]=b;b.onerror=b.onload=b.onabort=function(){delete e[f]};window.google&&window.google.vel&&window.google.vel.lu&&window.google.vel.lu(a);b.src=a;google.li=f+1}};google.logUrl=function(a,b,c,d,g){var e=\"\",f=google.ls||\"\";c||-1!=b.search(\"&ei=\")||(e=\"&ei=\"+google.getEI(d),-1==b.search(\"&lei=\")&&(d=google.getLEI(d))&&(e+=\"&lei=\"+d));a=c||\"/\"+(g||\"gen_204\")+\"?atyp=i&ct=\"+a+\"&cad=\"+b+e+f+\"&zx=\"+google.time();/^http:/i.test(a)&&google.https()&&(google.ml(Error(\"a\"),!1,{src:a,glmm:1}),a=\"\");return a};google.y={};google.x=function(a,b){google.y[a.id]=[a,b];return!1};google.lq=[];google.load=function(a,b,c){google.lq.push([[a],b,c])};google.loadAll=function(a,b){google.lq.push([a,b])};}).call(this);var a=window.location,b=a.href.indexOf(\"#\");if(0<=b){var c=a.href.substring(b+1);/(^|&)q=/.test(c)&&-1==c.indexOf(\"#\")&&a.replace(\"/search?\"+c.replace(/(^|&)fp=[^&]*/g,\"\")+\"&cad=h\")};\n",
      "  </script>\n",
      "  <style>\n",
      "   #gbar,#guser{font-size:13px;padding-top:1px !important;}#gbar{height:22px}#guser{padding-bottom:7px !important;text-align:right}.gbh,.gbd{border-top:1px solid #c9d7f1;font-size:1px}.gbh{height:0;position:absolute;top:24px;width:100%}@media all{.gb1{height:22px;margin-right:.5em;vertical-align:top}#gbar{float:left}}a.gb1,a.gb4{text-decoration:underline !important}a.gb1,a.gb4{color:#00c !important}.gbi .gb4{color:#dd8e27 !important}.gbf .gb4{color:#900 !important}\n",
      "  </style>\n",
      "  <style>\n",
      "   body,td,a,p,.h{font-family:±¼¸²,µ¸¿ò,arial,sans-serif}.ko{font-size:9pt}body{margin:0;overflow-y:scroll}#gog{padding:3px 8px 0}td{line-height:.8em}.gac_m td{line-height:17px}form{margin-bottom:20px}.h{color:#36c}.q{color:#00c}.ts td{padding:0}.ts{border-collapse:collapse}em{font-weight:bold;font-style:normal}.lst{height:25px;width:496px}.gsfi,.lst{font:18px arial,sans-serif}.gsfs{font:17px arial,sans-serif}.ds{display:inline-box;display:inline-block;margin:3px 0 4px;margin-left:4px}input{font-family:inherit}a.gb1,a.gb2,a.gb3,a.gb4{color:#11c !important}body{background:#fff;color:black}a{color:#11c;text-decoration:none}a:hover,a:active{text-decoration:underline}.fl a{color:#36c}a:visited{color:#551a8b}a.gb1,a.gb4{text-decoration:underline}a.gb3:hover{text-decoration:none}#ghead a.gb2:hover{color:#fff !important}.sblc{padding-top:5px}.sblc a{display:block;margin:2px 0;margin-left:13px;font-size:11px}.lsbb{background:#eee;border:solid 1px;border-color:#ccc #999 #999 #ccc;height:30px}.lsbb{display:block}.ftl,#fll a{display:inline-block;margin:0 12px}.lsb{background:url(/images/nav_logo229.png) 0 -261px repeat-x;border:none;color:#000;cursor:pointer;height:30px;margin:0;outline:0;font:15px arial,sans-serif;vertical-align:top}.lsb:active{background:#ccc}.lst:focus{outline:none}.tiah{width:458px}\n",
      "  </style>\n",
      "  <script>\n",
      "  </script>\n",
      "  <link href=\"/images/branding/product/ico/googleg_lodp.ico\" rel=\"shortcut icon\"/>\n",
      " </head>\n",
      " <body bgcolor=\"#fff\">\n",
      "  <script>\n",
      "   (function(){var src='/images/nav_logo229.png';var iesg=false;document.body.onload = function(){window.n && window.n();if (document.images){new Image().src=src;}\n",
      "if (!iesg){document.f&&document.f.q.focus();document.gbqf&&document.gbqf.q.focus();}\n",
      "}\n",
      "})();\n",
      "  </script>\n",
      "  <div id=\"mngb\">\n",
      "   <div id=\"gbar\">\n",
      "    <nobr>\n",
      "     <b class=\"gb1\">\n",
      "      °Ë»ö\n",
      "     </b>\n",
      "     <a class=\"gb1\" href=\"https://www.google.co.kr/imghp?hl=ko&amp;tab=wi\">\n",
      "      ÀÌ¹ÌÁö\n",
      "     </a>\n",
      "     <a class=\"gb1\" href=\"https://maps.google.co.kr/maps?hl=ko&amp;tab=wl\">\n",
      "      Áöµµ\n",
      "     </a>\n",
      "     <a class=\"gb1\" href=\"https://play.google.com/?hl=ko&amp;tab=w8\">\n",
      "      Play\n",
      "     </a>\n",
      "     <a class=\"gb1\" href=\"https://www.youtube.com/?gl=KR&amp;tab=w1\">\n",
      "      YouTube\n",
      "     </a>\n",
      "     <a class=\"gb1\" href=\"https://news.google.co.kr/nwshp?hl=ko&amp;tab=wn\">\n",
      "      ´º½º\n",
      "     </a>\n",
      "     <a class=\"gb1\" href=\"https://mail.google.com/mail/?tab=wm\">\n",
      "      Gmail\n",
      "     </a>\n",
      "     <a class=\"gb1\" href=\"https://drive.google.com/?tab=wo\">\n",
      "      µå¶óÀÌºê\n",
      "     </a>\n",
      "     <a class=\"gb1\" href=\"https://www.google.co.kr/intl/ko/options/\" style=\"text-decoration:none\">\n",
      "      <u>\n",
      "       ´õº¸±â\n",
      "      </u>\n",
      "      »\n",
      "     </a>\n",
      "    </nobr>\n",
      "   </div>\n",
      "   <div id=\"guser\" width=\"100%\">\n",
      "    <nobr>\n",
      "     <span class=\"gbi\" id=\"gbn\">\n",
      "     </span>\n",
      "     <span class=\"gbf\" id=\"gbf\">\n",
      "     </span>\n",
      "     <span id=\"gbe\">\n",
      "     </span>\n",
      "     <a class=\"gb4\" href=\"http://www.google.co.kr/history/optout?hl=ko\">\n",
      "      À¥ ±â·Ï\n",
      "     </a>\n",
      "     |\n",
      "     <a class=\"gb4\" href=\"/preferences?hl=ko\">\n",
      "      ¼³Á¤\n",
      "     </a>\n",
      "     |\n",
      "     <a class=\"gb4\" href=\"https://accounts.google.com/ServiceLogin?hl=ko&amp;passive=true&amp;continue=https://www.google.co.kr/%3Fgfe_rd%3Dcr%26ei%3DFZ5gWMuHMsLU8AfK5aN4\" id=\"gb_70\" target=\"_top\">\n",
      "      ·Î±×ÀÎ\n",
      "     </a>\n",
      "    </nobr>\n",
      "   </div>\n",
      "   <div class=\"gbh\" style=\"left:0\">\n",
      "   </div>\n",
      "   <div class=\"gbh\" style=\"right:0\">\n",
      "   </div>\n",
      "  </div>\n",
      "  <center>\n",
      "   <br clear=\"all\" id=\"lgpd\"/>\n",
      "   <div id=\"lga\">\n",
      "    <div style=\"padding:28px 0 3px\">\n",
      "     <div align=\"left\" id=\"hplogo\" onload=\"window.lol&amp;&amp;lol()\" style=\"height:110px;width:276px;background:url(/images/branding/googlelogo/1x/googlelogo_white_background_color_272x92dp.png) no-repeat\" title=\"Google\">\n",
      "      <div nowrap=\"\" style=\"color:#777;font-size:16px;font-weight:bold;position:relative;top:70px;left:218px\">\n",
      "       ÇÑ±¹\n",
      "      </div>\n",
      "     </div>\n",
      "    </div>\n",
      "    <br/>\n",
      "   </div>\n",
      "   <form action=\"/search\" name=\"f\">\n",
      "    <table cellpadding=\"0\" cellspacing=\"0\">\n",
      "     <tr valign=\"top\">\n",
      "      <td width=\"25%\">\n",
      "      </td>\n",
      "      <td align=\"center\" nowrap=\"\">\n",
      "       <input name=\"ie\" type=\"hidden\" value=\"EUC-KR\"/>\n",
      "       <input name=\"hl\" type=\"hidden\" value=\"ko\"/>\n",
      "       <input name=\"source\" type=\"hidden\" value=\"hp\"/>\n",
      "       <input name=\"biw\" type=\"hidden\"/>\n",
      "       <input name=\"bih\" type=\"hidden\"/>\n",
      "       <div class=\"ds\" style=\"height:32px;margin:4px 0\">\n",
      "        <div style=\"position:relative;zoom:1\">\n",
      "         <input autocomplete=\"off\" class=\"lst tiah\" maxlength=\"2048\" name=\"q\" size=\"57\" style=\"color:#000;margin:0;padding:5px 8px 0 6px;vertical-align:top;padding-right:38px\" title=\"Google °Ë»ö\" value=\"\"/>\n",
      "         <img alt=\"\" height=\"23\" onclick=\"(function(){var src='/textinputassistant/11/ko_tia.js';var s=document.createElement('script');s.src=src;google.dom.append(s);})();\" src=\"/textinputassistant/tia.png\" style=\"position:absolute;cursor:pointer;right:5px;top:4px;z-index:300\" width=\"27\"/>\n",
      "        </div>\n",
      "       </div>\n",
      "       <br style=\"line-height:0\"/>\n",
      "       <span class=\"ds\">\n",
      "        <span class=\"lsbb\">\n",
      "         <input class=\"lsb\" name=\"btnG\" type=\"submit\" value=\"Google °Ë»ö\"/>\n",
      "        </span>\n",
      "       </span>\n",
      "       <span class=\"ds\">\n",
      "        <span class=\"lsbb\">\n",
      "         <input class=\"lsb\" name=\"btnI\" onclick=\"if(this.form.q.value)this.checked=1; else top.location='/doodles/'\" type=\"submit\" value=\"I¡¯m Feeling Lucky\"/>\n",
      "        </span>\n",
      "       </span>\n",
      "      </td>\n",
      "      <td align=\"left\" class=\"fl sblc\" nowrap=\"\" width=\"25%\">\n",
      "       <a href=\"/advanced_search?hl=ko&amp;authuser=0\">\n",
      "        °í±Þ°Ë»ö\n",
      "       </a>\n",
      "       <a href=\"/language_tools?hl=ko&amp;authuser=0\">\n",
      "        ¾ð¾îµµ±¸\n",
      "       </a>\n",
      "      </td>\n",
      "     </tr>\n",
      "    </table>\n",
      "    <input id=\"gbv\" name=\"gbv\" type=\"hidden\" value=\"1\"/>\n",
      "   </form>\n",
      "   <div id=\"gac_scont\">\n",
      "   </div>\n",
      "   <div style=\"font-size:83%;min-height:3.5em\">\n",
      "    <br/>\n",
      "    <div id=\"prm\">\n",
      "     <style>\n",
      "      .szppmdbYutt__middle-slot-promo{font-size:small;margin-bottom:32px}.szppmdbYutt__middle-slot-promo a._uFi{display:inline-block;text-decoration:none}.szppmdbYutt__middle-slot-promo img{border:none;margin-right:5px;vertical-align:middle}.szppmdbYutt__middle-slot-promo ._vFi{color:red}\n",
      "     </style>\n",
      "     <div class=\"szppmdbYutt__middle-slot-promo r-iGO64_7dt6tk\" data-ved=\"0ahUKEwjfzdWhhJHRAhVLHJQKHeA9BkkQnIcBCAQ\" jsl=\"$t t-Gza07Ho9En4;$x 0;\">\n",
      "      <a class=\"_uFi\" href=\"https://www.google.com/url?q=&amp;source=hpp&amp;id=19001433&amp;ct=8&amp;usg=AFQjCNH46mqOR3QeHU8N-bs58_Cdh9Hp-g&amp;sa=X&amp;ved=0ahUKEwjfzdWhhJHRAhVLHJQKHeA9BkkQ8IcBCAU\">\n",
      "       <img height=\"32\" src=\"/images/hpp/Google_Search_Holiday_96_x10.gif\" width=\"32\"/>\n",
      "      </a>\n",
      "      <a class=\"_XIi\" href=\"https://www.google.com/url?q=https://play.google.com/store/apps/collection/promotion_3001d1a_google_apps&amp;source=hpp&amp;id=19001433&amp;ct=8&amp;usg=AFQjCNH2g_4hADNfzHkowt7_z-UAPxs6cg&amp;sa=X&amp;ved=0ahUKEwjfzdWhhJHRAhVLHJQKHeA9BkkQ8IcBCAY\" rel=\"nofollow\">\n",
      "       Android\n",
      "      </a>\n",
      "      ¹×\n",
      "      <a class=\"_XIi\" href=\"https://www.google.com/url?q=https://itunes.apple.com/kr/developer/google-inc./id281956209&amp;source=hpp&amp;id=19001433&amp;ct=8&amp;usg=AFQjCNHzEzbCUvQXFxb-81eNofHeCtdZkA&amp;sa=X&amp;ved=0ahUKEwjfzdWhhJHRAhVLHJQKHeA9BkkQ8IcBCAc\" rel=\"nofollow\">\n",
      "       iOS\n",
      "      </a>\n",
      "      ¿ë ÃÖ°íÀÇ Google ¾ÛÀ» ¸¸³ªº¸¼¼¿ä\n",
      "     </div>\n",
      "    </div>\n",
      "   </div>\n",
      "   <span id=\"footer\">\n",
      "    <div style=\"font-size:10pt\">\n",
      "     <div id=\"fll\" style=\"margin:19px auto;text-align:center\">\n",
      "      <a href=\"/intl/ko/ads/\">\n",
      "       ±¤°í ÇÁ·Î±×·¥\n",
      "      </a>\n",
      "      <a href=\"http://www.google.co.kr/intl/ko/services/\">\n",
      "       ºñÁî´Ï½º ¼Ö·ç¼Ç\n",
      "      </a>\n",
      "      <a href=\"https://plus.google.com/102197601262446632410\" rel=\"publisher\">\n",
      "       +Google\n",
      "      </a>\n",
      "      <a href=\"/intl/ko/about.html\">\n",
      "       Google Á¤º¸\n",
      "      </a>\n",
      "      <a href=\"https://www.google.co.kr/setprefdomain?prefdom=US&amp;sig=__wkA_wSeseHPqwYHdRJhVwHnAw0E%3D\" id=\"fehl\">\n",
      "       Google.com\n",
      "      </a>\n",
      "     </div>\n",
      "    </div>\n",
      "    <p style=\"color:#767676;font-size:8pt\">\n",
      "     © 2016 -\n",
      "     <a href=\"/intl/ko/policies/privacy/\">\n",
      "      °³ÀÎÁ¤º¸Ã³¸®¹æÄ§\n",
      "     </a>\n",
      "     -\n",
      "     <a href=\"/intl/ko/policies/terms/\">\n",
      "      ¾à°ü\n",
      "     </a>\n",
      "    </p>\n",
      "   </span>\n",
      "  </center>\n",
      "  <script>\n",
      "   (function(){window.google.cdo={height:0,width:0};(function(){var a=window.innerWidth,b=window.innerHeight;if(!a||!b)var c=window.document,d=\"CSS1Compat\"==c.compatMode?c.documentElement:c.body,a=d.clientWidth,b=d.clientHeight;a&&b&&(a!=google.cdo.width||b!=google.cdo.height)&&google.log(\"\",\"\",\"/client_204?&atyp=i&biw=\"+a+\"&bih=\"+b+\"&ei=\"+google.kEI);}).call(this);})();\n",
      "  </script>\n",
      "  <div id=\"xjsd\">\n",
      "  </div>\n",
      "  <div id=\"xjsi\">\n",
      "   <script>\n",
      "    (function(){function c(b){window.setTimeout(function(){var a=document.createElement(\"script\");a.src=b;document.getElementById(\"xjsd\").appendChild(a)},0)}google.dljp=function(b,a){google.xjsu=b;c(a)};google.dlj=c;}).call(this);(function(){window.google.xjsrm=['mids'];})();if(google.y)google.y.first=[];if(!google.xjs){window._=window._||{};window._._DumpException=function(e){throw e};if(google.timers&&google.timers.load.t){google.timers.load.t.xjsls=new Date().getTime();}google.dljp('/xjs/_/js/k\\x3dxjs.hp.en_US.NvgIAsLVyEw.O/m\\x3dsb_he,d/rt\\x3dj/d\\x3d1/t\\x3dzcms/rs\\x3dACT90oGNV93J8fosxdIb65eqXMcZr4IaLg','/xjs/_/js/k\\x3dxjs.hp.en_US.NvgIAsLVyEw.O/m\\x3dsb_he,d/rt\\x3dj/d\\x3d1/t\\x3dzcms/rs\\x3dACT90oGNV93J8fosxdIb65eqXMcZr4IaLg');google.xjs=1;}google.pmc={\"sb_he\":{\"agen\":true,\"cgen\":true,\"client\":\"heirloom-hp\",\"dh\":true,\"dhqt\":true,\"ds\":\"\",\"fl\":true,\"host\":\"google.co.kr\",\"isbh\":28,\"jam\":0,\"jsonp\":true,\"msgs\":{\"cibl\":\"°Ë»ö¾î Áö¿ì±â\",\"dym\":\"ÀÌ°ÍÀ» Ã£À¸¼Ì³ª¿ä?\",\"lcky\":\"I¡¯m Feeling Lucky\",\"lml\":\"ÀÚ¼¼È÷ ¾Ë¾Æº¸±â\",\"oskt\":\"ÀÔ·Â µµ±¸\",\"psrc\":\"°Ë»ö¾î°¡ \\u003Ca href=\\\"/history\\\"\\u003EÀ¥ ±â·Ï\\u003C/a\\u003E¿¡¼­ »èÁ¦µÇ¾ú½À´Ï´Ù.\",\"psrl\":\"»èÁ¦\",\"sbit\":\"ÀÌ¹ÌÁö·Î °Ë»ö\",\"srch\":\"Google °Ë»ö\"},\"nds\":true,\"ovr\":{},\"pq\":\"\",\"refpd\":true,\"refspre\":true,\"rfs\":[],\"scd\":10,\"sce\":5,\"stok\":\"tt1UReZWzkEQY5kg2OXAsv5kVOM\"},\"d\":{}};google.y.first.push(function(){if(google.med){google.med('init');google.initHistory();google.med('history');}});if(google.j&&google.j.en&&google.j.xi){window.setTimeout(google.j.xi,0);}\n",
      "   </script>\n",
      "  </div>\n",
      " </body>\n",
      "</html>\n"
     ]
    }
   ],
   "source": [
    "print(soup.prettify())"
   ]
  },
  {
   "cell_type": "code",
   "execution_count": 14,
   "metadata": {
    "collapsed": false
   },
   "outputs": [
    {
     "name": "stdout",
     "output_type": "stream",
     "text": [
      "<class 'bs4.element.Tag'> <class 'list'>\n",
      "<class 'bs4.element.Tag'> <class 'list'>\n",
      "<class 'bs4.element.Tag'> <class 'list'>\n",
      "<class 'bs4.element.Tag'> <class 'list'>\n",
      "<class 'bs4.element.Tag'> <class 'list'>\n"
     ]
    }
   ],
   "source": [
    "for i in soup.find_all('script') :\n",
    "    print(type(i), type(i.contents))"
   ]
  },
  {
   "cell_type": "code",
   "execution_count": 18,
   "metadata": {
    "collapsed": false
   },
   "outputs": [
    {
     "name": "stdout",
     "output_type": "stream",
     "text": [
      "<div id=\"gbar\"><nobr><b class=\"gb1\">°Ë»ö</b> <a class=\"gb1\" href=\"https://www.google.co.kr/imghp?hl=ko&amp;tab=wi\">ÀÌ¹ÌÁö</a> <a class=\"gb1\" href=\"https://maps.google.co.kr/maps?hl=ko&amp;tab=wl\">Áöµµ</a> <a class=\"gb1\" href=\"https://play.google.com/?hl=ko&amp;tab=w8\">Play</a> <a class=\"gb1\" href=\"https://www.youtube.com/?gl=KR&amp;tab=w1\">YouTube</a> <a class=\"gb1\" href=\"https://news.google.co.kr/nwshp?hl=ko&amp;tab=wn\">´º½º</a> <a class=\"gb1\" href=\"https://mail.google.com/mail/?tab=wm\">Gmail</a> <a class=\"gb1\" href=\"https://drive.google.com/?tab=wo\">µå¶óÀÌºê</a> <a class=\"gb1\" href=\"https://www.google.co.kr/intl/ko/options/\" style=\"text-decoration:none\"><u>´õº¸±â</u> »</a></nobr></div>\n"
     ]
    }
   ],
   "source": [
    "for i in soup.find_all('div',id=\"gbar\") :\n",
    "    print(i)"
   ]
  },
  {
   "cell_type": "code",
   "execution_count": 19,
   "metadata": {
    "collapsed": false
   },
   "outputs": [
    {
     "name": "stdout",
     "output_type": "stream",
     "text": [
      "<div id=\"gbar\"><nobr><b class=\"gb1\">°Ë»ö</b> <a class=\"gb1\" href=\"https://www.google.co.kr/imghp?hl=ko&amp;tab=wi\">ÀÌ¹ÌÁö</a> <a class=\"gb1\" href=\"https://maps.google.co.kr/maps?hl=ko&amp;tab=wl\">Áöµµ</a> <a class=\"gb1\" href=\"https://play.google.com/?hl=ko&amp;tab=w8\">Play</a> <a class=\"gb1\" href=\"https://www.youtube.com/?gl=KR&amp;tab=w1\">YouTube</a> <a class=\"gb1\" href=\"https://news.google.co.kr/nwshp?hl=ko&amp;tab=wn\">´º½º</a> <a class=\"gb1\" href=\"https://mail.google.com/mail/?tab=wm\">Gmail</a> <a class=\"gb1\" href=\"https://drive.google.com/?tab=wo\">µå¶óÀÌºê</a> <a class=\"gb1\" href=\"https://www.google.co.kr/intl/ko/options/\" style=\"text-decoration:none\"><u>´õº¸±â</u> »</a></nobr></div>\n"
     ]
    }
   ],
   "source": [
    "for i in soup.find_all('div',attrs={'id':\"gbar\"}) :\n",
    "    print(i)"
   ]
  },
  {
   "cell_type": "code",
   "execution_count": 20,
   "metadata": {
    "collapsed": false
   },
   "outputs": [
    {
     "data": {
      "image/png": "[encoded data removed]",
      "text/plain": [
       "<IPython.core.display.Image object>"
      ]
     },
     "execution_count": 20,
     "metadata": {},
     "output_type": "execute_result"
    }
   ],
   "source": [
    "from IPython.display import Image\n",
    "Image('http://www.openbookproject.net/tutorials/getdown/css/images/lesson4/HTMLDOMTree.png')"
   ]
  },
  {
   "cell_type": "code",
   "execution_count": 29,
   "metadata": {
    "collapsed": false
   },
   "outputs": [
    {
     "name": "stdout",
     "output_type": "stream",
     "text": [
      "[<a class=\"sister\" href=\"http://example.com/elsie\" id=\"link1\">Elsie</a>]\n",
      "<class 'bs4.element.Tag'>\n",
      "a\n",
      "{'id': 'link1', 'href': 'http://example.com/elsie', 'class': ['sister']}\n"
     ]
    }
   ],
   "source": [
    "from bs4 import BeautifulSoup\n",
    "\n",
    "page = '<a class=\"sister\" href=\"http://example.com/elsie\" id=\"link1\">Elsie</a>'\n",
    "soup = BeautifulSoup(page,\"lxml\")\n",
    "\n",
    "Learning = soup.find_all(\"a\", class_=\"sister\")\n",
    "print(Learning)\n",
    "print(type(Learning[0]))\n",
    "print(Learning[0].name)\n",
    "print(Learning[0].attrs)"
   ]
  },
  {
   "cell_type": "code",
   "execution_count": 33,
   "metadata": {
    "collapsed": false
   },
   "outputs": [
    {
     "name": "stdout",
     "output_type": "stream",
     "text": [
      "Server: nginx\n",
      "Content-Type: text/html; charset=utf-8\n",
      "X-Frame-Options: SAMEORIGIN\n",
      "X-Clacks-Overhead: GNU Terry Pratchett\n",
      "Content-Length: 47353\n",
      "Accept-Ranges: bytes\n",
      "Date: Mon, 26 Dec 2016 05:29:46 GMT\n",
      "Via: 1.1 varnish\n",
      "Age: 318\n",
      "Connection: close\n",
      "X-Served-By: cache-itm7427-ITM\n",
      "X-Cache: HIT\n",
      "X-Cache-Hits: 3\n",
      "X-Timer: S1482730186.109427,VS0,VE0\n",
      "Vary: Cookie\n",
      "Public-Key-Pins: max-age=600; includeSubDomains; pin-sha256=\"WoiWRyIOVNa9ihaBciRSC7XHjliYS9VwUGOIud4PB18=\"; pin-sha256=\"5C8kvU039KouVrl52D0eZSGf4Onjo4Khs8tmyTlV3nU=\"; pin-sha256=\"5C8kvU039KouVrl52D0eZSGf4Onjo4Khs8tmyTlV3nU=\"; pin-sha256=\"lCppFqbkrlJ3EcVFAkeip0+44VaoJUymbnOaEUk7tEU=\"; pin-sha256=\"TUDnr0MEoJ3of7+YliBMBVFB4/gJsv5zO7IxD9+YoWI=\"; pin-sha256=\"x4QzPSC810K5/cMjb05Qm4k3Bw5zBn4lTdO/nEW/Td4=\";\n",
      "Strict-Transport-Security: max-age=63072000; includeSubDomains\n",
      "\n",
      "\n",
      "<!doctype html>\n"
     ]
    }
   ],
   "source": [
    "import urllib.request as url\n",
    "response = url.urlopen('http://python.org/')\n",
    "html = response.read()\n",
    "\n",
    "print(response.info())\n",
    "#bytes --> str로 변환해서 처리 \n",
    "print(html.decode(\"utf-8\").split('\\n')[0])"
   ]
  },
  {
   "cell_type": "code",
   "execution_count": 45,
   "metadata": {
    "collapsed": false
   },
   "outputs": [
    {
     "name": "stdout",
     "output_type": "stream",
     "text": [
      "<html><head><body>\n",
      "</body></head></html>"
     ]
    }
   ],
   "source": [
    "html = \"\"\"<html><head><body>\n",
    "</body></head></html>\"\"\"\n",
    "f = open('myfile.html', 'w')\n",
    "f.write(html)\n",
    "f.close()\n",
    "\n",
    "count = 0\n",
    "f = open('myfile.html', 'r')\n",
    "for i in f :\n",
    "    count +=1\n",
    "    print(i,end=\"\")\n"
   ]
  },
  {
   "cell_type": "code",
   "execution_count": 47,
   "metadata": {
    "collapsed": false
   },
   "outputs": [
    {
     "name": "stdout",
     "output_type": "stream",
     "text": [
      "http://python.org/about.html\n",
      "http://foo.com/\n"
     ]
    }
   ],
   "source": [
    "from urllib.parse import urljoin\n",
    "url = urljoin('http://python.org/', 'about.html')\n",
    "print(url)\n",
    "\n",
    "url = urljoin('http://python.org/', 'http://foo.com/')\n",
    "print(url)\n"
   ]
  },
  {
   "cell_type": "code",
   "execution_count": 48,
   "metadata": {
    "collapsed": false
   },
   "outputs": [
    {
     "name": "stdout",
     "output_type": "stream",
     "text": [
      "<html>\n",
      " <body>\n",
      "  &amp; &amp; ampersand\n",
      " ¢ ¢ cent\n",
      " © © copyright\n",
      " ÷ ÷ divide\n",
      " &gt; &gt; greater than\n",
      " </body>\n",
      "</html>\n",
      "\n"
     ]
    }
   ],
   "source": [
    "html_markup = \"\"\"<html>\n",
    " <body>& &amp; ampersand\n",
    " ¢ &cent; cent\n",
    " © &copy; copyright\n",
    " ÷ &divide; divide\n",
    " > &gt; greater than\n",
    " </body>\n",
    "</html>\n",
    "\"\"\"\n",
    "soup = BeautifulSoup(html_markup,\"lxml\")\n",
    "print(soup.prettify())"
   ]
  },
  {
   "cell_type": "code",
   "execution_count": 58,
   "metadata": {
    "collapsed": false
   },
   "outputs": [
    {
     "name": "stdout",
     "output_type": "stream",
     "text": [
      "<class 'bs4.BeautifulSoup'>\n",
      "<html><body><p>Helloworld</p></body></html>\n",
      "<class 'bs4.element.Tag'>\n",
      "<body><p>Helloworld</p></body>\n",
      "<class 'str'>\n",
      "Helloworld\n",
      "<class 'bs4.element.NavigableString'>\n",
      "True\n"
     ]
    }
   ],
   "source": [
    "from bs4 import BeautifulSoup, NavigableString\n",
    "\n",
    "html = \"\"\"<html><body><p>Helloworld</p></body></html>\"\"\"\n",
    "soup_string = BeautifulSoup(html,'html.parser')\n",
    "\n",
    "print(type(soup_string))\n",
    "print(soup_string)\n",
    "\n",
    "print(type(soup_string.body))\n",
    "print(soup_string.body)\n",
    "\n",
    "print(type(soup_string.p.text))\n",
    "print(soup_string.p.text)\n",
    "\n",
    "a = NavigableString(\"Helloworld\")\n",
    "print(type(a))\n",
    "print(soup_string.p.text == a)"
   ]
  },
  {
   "cell_type": "code",
   "execution_count": 59,
   "metadata": {
    "collapsed": false
   },
   "outputs": [
    {
     "name": "stdout",
     "output_type": "stream",
     "text": [
      "Writing test.html\n"
     ]
    }
   ],
   "source": [
    "%%writefile test.html\n",
    "<html>\n",
    "  <body>\n",
    "    <div class=\"ecopyramid\">\n",
    "       <ul id=\"producers\">\n",
    "          <li class=\"producerlist\">\n",
    "            <div class=\"name\">plants</div>\n",
    "            <div class=\"number\">100000</div>\n",
    "          </li>\n",
    "          <li class=\"producerlist\">\n",
    "            <div class=\"name\">algae</div>\n",
    "            <div class=\"number\">100000</div>\n",
    "          </li>\n",
    "      </ul>\n",
    "      <ul id=\"primaryconsumers\">\n",
    "          <li class=\"primaryconsumerlist\">\n",
    "             <div class=\"name\">deer</div>\n",
    "             <div class=\"number\">1000</div>\n",
    "          </li>\n",
    "         <li class=\"primaryconsumerlist\">\n",
    "             <div class=\"name\">rabbit</div>\n",
    "             <div class=\"number\">2000</div>\n",
    "         </li>\n",
    "      </ul>\n",
    "      <ul id=\"secondaryconsumers\">\n",
    "         <li class=\"secondaryconsumerlist\">\n",
    "            <div class=\"name\">fox</div>\n",
    "            <div class=\"number\">100</div>\n",
    "         </li>\n",
    "         <li class=\"secondaryconsumerlist\">\n",
    "            <div class=\"name\">bear</div>\n",
    "            <div class=\"number\">100</div>\n",
    "         </li>\n",
    "      </ul>\n",
    "      <ul id=\"tertiaryconsumers\">\n",
    "         <li class=\"tertiaryconsumerlist\">\n",
    "            <div class=\"name\">lion</div>\n",
    "            <div class=\"number\">80</div>\n",
    "         </li>\n",
    "         <li class=\"tertiaryconsumerlist\">\n",
    "            <div class=\"name\">tiger</div>\n",
    "            <div class=\"number\">50</div>\n",
    "         </li>\n",
    "      </ul>\n",
    "  </body>\n",
    "</html>"
   ]
  },
  {
   "cell_type": "code",
   "execution_count": 73,
   "metadata": {
    "collapsed": false
   },
   "outputs": [
    {
     "name": "stdout",
     "output_type": "stream",
     "text": [
      "<ul id=\"producers\">\n",
      "<li class=\"producerlist\">\n",
      "<div class=\"name\">plants</div>\n",
      "<div class=\"number\">100000</div>\n",
      "</li>\n",
      "<li class=\"producerlist\">\n",
      "<div class=\"name\">algae</div>\n",
      "<div class=\"number\">100000</div>\n",
      "</li>\n",
      "</ul>\n",
      " ### direct access ### \n",
      "plants\n",
      "plants\n",
      " ### find_all access ### \n",
      "plants\n",
      "100000\n",
      "algae\n",
      "100000\n"
     ]
    }
   ],
   "source": [
    "from bs4 import BeautifulSoup\n",
    "with open(\"test.html\",\"r\") as ecological_pyramid:\n",
    "    soup = BeautifulSoup(ecological_pyramid,\"lxml\")\n",
    "    \n",
    "producer_entries = soup.find(\"ul\")\n",
    "print(producer_entries)\n",
    "\n",
    "print(\" ### direct access ### \")\n",
    "print(producer_entries.li.div.text)\n",
    "print(producer_entries.li.div.string)\n",
    "\n",
    "print(\" ### find_all access ### \")\n",
    "for i in producer_entries.find_all('li') :\n",
    "    for j in i.find_all('div') :\n",
    "        print(j.text)\n"
   ]
  },
  {
   "cell_type": "code",
   "execution_count": 76,
   "metadata": {
    "collapsed": false
   },
   "outputs": [
    {
     "name": "stdout",
     "output_type": "stream",
     "text": [
      "ul\n",
      "<html>\n",
      " <body>\n",
      "  <div class=\"ecopyramid\">\n",
      "   <div id=\"producers\">\n",
      "    <li class=\"producerlist\">\n",
      "     <div class=\"name\">\n",
      "      plants\n",
      "     </div>\n",
      "     <div class=\"number\">\n",
      "      100000\n",
      "     </div>\n",
      "    </li>\n",
      "    <li class=\"producerlist\">\n",
      "     <div class=\"name\">\n",
      "      algae\n",
      "     </div>\n",
      "     <div class=\"number\">\n",
      "      100000\n",
      "     </div>\n",
      "    </li>\n",
      "   </div>\n",
      "  </div>\n",
      " </body>\n",
      "</html>\n"
     ]
    }
   ],
   "source": [
    "from bs4 import BeautifulSoup\n",
    "\n",
    "html_markup = \"\"\"<div class=\"ecopyramid\">\n",
    "<ul id=\"producers\">\n",
    " <li class=\"producerlist\">\n",
    " <div class=\"name\">plants</div>\n",
    " <div class=\"number\">100000</div>\n",
    " </li>\n",
    " <li class=\"producerlist\">\n",
    " <div class=\"name\">algae</div>\n",
    " <div class=\"number\">100000</div>\n",
    " </li>\n",
    "</ul>\"\"\"\n",
    "soup = BeautifulSoup(html_markup,\"lxml\")\n",
    "producer_entries = soup.ul\n",
    "print(producer_entries.name)\n",
    "\n",
    "producer_entries.name = \"div\"\n",
    "print(soup.prettify())"
   ]
  },
  {
   "cell_type": "code",
   "execution_count": 87,
   "metadata": {
    "collapsed": false
   },
   "outputs": [
    {
     "name": "stdout",
     "output_type": "stream",
     "text": [
      "<class 'bs4.BeautifulSoup'>\n",
      " The Spanish language is written using the\n",
      " Spanish alphabet, which is the Latin alphabet with one\n",
      " additional letter, eñe ⟨ñ⟩, for a total of 27 letters.\n",
      "<class 'str'>\n",
      "<html>\n",
      " <body>\n",
      "  <p>\n",
      "   The Spanish language is written using the\n",
      " Spanish alphabet, which is the Latin alphabet with one\n",
      " additional letter, eñe ⟨ñ⟩, for a total of 27 letters.\n",
      "  </p>\n",
      " </body>\n",
      "</html>\n"
     ]
    }
   ],
   "source": [
    "from bs4 import BeautifulSoup\n",
    "\n",
    "html_markup = \"\"\"<p> The Spanish language is written using the\n",
    " Spanish alphabet, which is the Latin alphabet with one\n",
    " additional letter, eñe ⟨ñ⟩, for a total of 27 letters.</p>\n",
    "\"\"\"\n",
    "soup = BeautifulSoup(html_markup,\"lxml\")\n",
    "print(type(soup))\n",
    "print(soup.p.string)\n",
    "\n",
    "soup = BeautifulSoup(html_markup,\"lxml\")\n",
    "print(type(soup.decode(\"utf-8\")))\n",
    "print(soup.decode(\"utf-8\"))"
   ]
  },
  {
   "cell_type": "code",
   "execution_count": 88,
   "metadata": {
    "collapsed": false
   },
   "outputs": [
    {
     "name": "stdout",
     "output_type": "stream",
     "text": [
      "<html>\n",
      " <body>\n",
      "  <p>\n",
      "   The Spanish language is written using the\n",
      " Spanish alphabet, which is the Latin alphabet with one\n",
      " additional letter,&nbsp;e&ntilde;e&nbsp;⟨&ntilde;⟩, for a total of 27 letters.\n",
      "  </p>\n",
      " </body>\n",
      "</html>\n"
     ]
    }
   ],
   "source": [
    "from bs4 import BeautifulSoup\n",
    "\n",
    "html_markup = \"\"\"<p> The Spanish language is written using the\n",
    " Spanish alphabet, which is the Latin alphabet with one\n",
    " additional letter, eñe ⟨ñ⟩, for a total of 27 letters.</p>\n",
    "\"\"\"\n",
    "soup = BeautifulSoup(html_markup,\"lxml\")\n",
    "print(soup.prettify(formatter=\"html\"))"
   ]
  },
  {
   "cell_type": "code",
   "execution_count": 89,
   "metadata": {
    "collapsed": false
   },
   "outputs": [
    {
     "name": "stdout",
     "output_type": "stream",
     "text": [
      "<html>\n",
      " <body>\n",
      "  <p>\n",
      "   The Spanish language is written using the\n",
      " Spanish alphabet, which is the Latin alphabet with one\n",
      " additional letter, eñe ⟨ñ⟩, for a total of 27 letters.\n",
      "  </p>\n",
      " </body>\n",
      "</html>\n"
     ]
    }
   ],
   "source": [
    "from bs4 import BeautifulSoup\n",
    "\n",
    "html_markup = \"\"\"<p> The Spanish language is written using the\n",
    " Spanish alphabet, which is the Latin alphabet with one\n",
    " additional letter, eñe ⟨ñ⟩, for a total of 27 letters.</p>\n",
    "\"\"\"\n",
    "soup = BeautifulSoup(html_markup,\"lxml\")\n",
    "print(soup.prettify(formatter=\"none\"))"
   ]
  },
  {
   "cell_type": "code",
   "execution_count": 90,
   "metadata": {
    "collapsed": false
   },
   "outputs": [
    {
     "name": "stdout",
     "output_type": "stream",
     "text": [
      "<html>\n",
      " <body>\n",
      "  & & mpersnd\n",
      " ¢ ¢ cent\n",
      " © © copyright\n",
      " ÷ ÷ divide\n",
      " > > greter thn\n",
      " </body>\n",
      "</html>\n",
      "\n"
     ]
    }
   ],
   "source": [
    "from bs4 import BeautifulSoup\n",
    "\n",
    "html_markup = \"\"\"<html>\n",
    " <body>& &amp; ampersand\n",
    " ¢ &cent; cent\n",
    " © &copy; copyright\n",
    " ÷ &divide; divide\n",
    " > &gt; greater than\n",
    " </body>\n",
    "</html>\n",
    "\"\"\"\n",
    "soup \n",
    "def remove_chara(markup):\n",
    "     return markup.replace(\"a\",\"\")\n",
    "    \n",
    "soup = BeautifulSoup(html_markup,\"lxml\")\n",
    "print(soup.prettify(formatter=remove_chara))"
   ]
  },
  {
   "cell_type": "code",
   "execution_count": 104,
   "metadata": {
    "collapsed": false
   },
   "outputs": [
    {
     "name": "stdout",
     "output_type": "stream",
     "text": [
      "[<h1>Hello, DOM 3 XPath!</h1>]\n",
      "<h1>Hello, DOM 3 XPath!</h1>\n",
      "<p>This is XPathEvaluator Extension for BeautifulSoup.</p>\n",
      "<p>This is based on JavaScript-XPath!</p>\n"
     ]
    }
   ],
   "source": [
    "\n",
    "from bs4 import BeautifulSoup\n",
    " \n",
    "html = '''<html>\n",
    "<head><title>Hello, DOM 3 XPath!</title></head>\n",
    "<body>\n",
    "<h1>Hello, DOM 3 XPath!</h1>\n",
    "<p>This is XPathEvaluator Extension for BeautifulSoup.</p>\n",
    "<p>This is based on JavaScript-XPath!</p>\n",
    "</body></html>'''\n",
    "\n",
    "document = BeautifulSoup(html,\"lxml\")\n",
    "\n",
    "# search h1 tag text(.//h1)\n",
    "nodes = document.find_all('h1')\n",
    "print(nodes)\n",
    "\n",
    "for n in nodes:\n",
    "    print(n)\n",
    "\n",
    "# search paragraph tag text(.//p)\n",
    "nodes = document.find_all('p')\n",
    " \n",
    "for n in nodes:\n",
    "    print(n)"
   ]
  },
  {
   "cell_type": "code",
   "execution_count": 97,
   "metadata": {
    "collapsed": false
   },
   "outputs": [
    {
     "data": {
      "text/plain": [
       "['ASCII_SPACES',\n",
       " 'DEFAULT_BUILDER_FEATURES',\n",
       " 'HTML_FORMATTERS',\n",
       " 'NO_PARSER_SPECIFIED_WARNING',\n",
       " 'ROOT_TAG_NAME',\n",
       " 'XML_FORMATTERS',\n",
       " '__bool__',\n",
       " '__call__',\n",
       " '__class__',\n",
       " '__contains__',\n",
       " '__copy__',\n",
       " '__delattr__',\n",
       " '__delitem__',\n",
       " '__dict__',\n",
       " '__dir__',\n",
       " '__doc__',\n",
       " '__eq__',\n",
       " '__format__',\n",
       " '__ge__',\n",
       " '__getattr__',\n",
       " '__getattribute__',\n",
       " '__getitem__',\n",
       " '__getstate__',\n",
       " '__gt__',\n",
       " '__hash__',\n",
       " '__init__',\n",
       " '__iter__',\n",
       " '__le__',\n",
       " '__len__',\n",
       " '__lt__',\n",
       " '__module__',\n",
       " '__ne__',\n",
       " '__new__',\n",
       " '__reduce__',\n",
       " '__reduce_ex__',\n",
       " '__repr__',\n",
       " '__setattr__',\n",
       " '__setitem__',\n",
       " '__sizeof__',\n",
       " '__str__',\n",
       " '__subclasshook__',\n",
       " '__unicode__',\n",
       " '__weakref__',\n",
       " '_all_strings',\n",
       " '_attr_value_as_string',\n",
       " '_attribute_checker',\n",
       " '_check_markup_is_url',\n",
       " '_feed',\n",
       " '_find_all',\n",
       " '_find_one',\n",
       " '_formatter_for_name',\n",
       " '_is_xml',\n",
       " '_lastRecursiveChild',\n",
       " '_last_descendant',\n",
       " '_popToTag',\n",
       " '_select_debug',\n",
       " '_selector_combinators',\n",
       " '_should_pretty_print',\n",
       " '_tag_name_matches_and',\n",
       " 'append',\n",
       " 'attribselect_re',\n",
       " 'childGenerator',\n",
       " 'children',\n",
       " 'clear',\n",
       " 'decode',\n",
       " 'decode_contents',\n",
       " 'decompose',\n",
       " 'descendants',\n",
       " 'encode',\n",
       " 'encode_contents',\n",
       " 'endData',\n",
       " 'extract',\n",
       " 'fetchNextSiblings',\n",
       " 'fetchParents',\n",
       " 'fetchPrevious',\n",
       " 'fetchPreviousSiblings',\n",
       " 'find',\n",
       " 'findAll',\n",
       " 'findAllNext',\n",
       " 'findAllPrevious',\n",
       " 'findChild',\n",
       " 'findChildren',\n",
       " 'findNext',\n",
       " 'findNextSibling',\n",
       " 'findNextSiblings',\n",
       " 'findParent',\n",
       " 'findParents',\n",
       " 'findPrevious',\n",
       " 'findPreviousSibling',\n",
       " 'findPreviousSiblings',\n",
       " 'find_all',\n",
       " 'find_all_next',\n",
       " 'find_all_previous',\n",
       " 'find_next',\n",
       " 'find_next_sibling',\n",
       " 'find_next_siblings',\n",
       " 'find_parent',\n",
       " 'find_parents',\n",
       " 'find_previous',\n",
       " 'find_previous_sibling',\n",
       " 'find_previous_siblings',\n",
       " 'format_string',\n",
       " 'get',\n",
       " 'getText',\n",
       " 'get_text',\n",
       " 'handle_data',\n",
       " 'handle_endtag',\n",
       " 'handle_starttag',\n",
       " 'has_attr',\n",
       " 'has_key',\n",
       " 'index',\n",
       " 'insert',\n",
       " 'insert_after',\n",
       " 'insert_before',\n",
       " 'isSelfClosing',\n",
       " 'is_empty_element',\n",
       " 'new_string',\n",
       " 'new_tag',\n",
       " 'next',\n",
       " 'nextGenerator',\n",
       " 'nextSibling',\n",
       " 'nextSiblingGenerator',\n",
       " 'next_elements',\n",
       " 'next_siblings',\n",
       " 'object_was_parsed',\n",
       " 'parentGenerator',\n",
       " 'parents',\n",
       " 'parserClass',\n",
       " 'popTag',\n",
       " 'prettify',\n",
       " 'previous',\n",
       " 'previousGenerator',\n",
       " 'previousSibling',\n",
       " 'previousSiblingGenerator',\n",
       " 'previous_elements',\n",
       " 'previous_siblings',\n",
       " 'pushTag',\n",
       " 'quoted_colon',\n",
       " 'recursiveChildGenerator',\n",
       " 'renderContents',\n",
       " 'replaceWith',\n",
       " 'replaceWithChildren',\n",
       " 'replace_with',\n",
       " 'replace_with_children',\n",
       " 'reset',\n",
       " 'select',\n",
       " 'select_one',\n",
       " 'setup',\n",
       " 'string',\n",
       " 'strings',\n",
       " 'stripped_strings',\n",
       " 'tag_name_re',\n",
       " 'text',\n",
       " 'unwrap',\n",
       " 'wrap']"
      ]
     },
     "execution_count": 97,
     "metadata": {},
     "output_type": "execute_result"
    }
   ],
   "source": [
    "dir(BeautifulSoup)"
   ]
  },
  {
   "cell_type": "code",
   "execution_count": 112,
   "metadata": {
    "collapsed": false
   },
   "outputs": [
    {
     "name": "stdout",
     "output_type": "stream",
     "text": [
      "root\n",
      "<Element root at 0x5f7b988>\n",
      "b'<root>\\n  <child1/>\\n</root>\\n'\n"
     ]
    }
   ],
   "source": [
    "from lxml import etree\n",
    "root = etree.Element(\"root\")\n",
    "print(root.tag)\n",
    "\n",
    "child1 = etree.Element(\"child1\")\n",
    "\n",
    "root.append(child1)\n",
    "print(root)\n",
    "print(etree.tostring(root, pretty_print=True))"
   ]
  },
  {
   "cell_type": "code",
   "execution_count": 116,
   "metadata": {
    "collapsed": false
   },
   "outputs": [
    {
     "name": "stdout",
     "output_type": "stream",
     "text": [
      "b'<root>data</root>'\n"
     ]
    }
   ],
   "source": [
    "from io import BytesIO\n",
    "from lxml import etree\n",
    "\n",
    "some_file_or_file_like_object = BytesIO(b\"<root>data</root>\")\n",
    "\n",
    "tree = etree.parse(some_file_or_file_like_object)\n",
    "\n",
    "print(etree.tostring(tree))\n"
   ]
  },
  {
   "cell_type": "code",
   "execution_count": 117,
   "metadata": {
    "collapsed": false
   },
   "outputs": [
    {
     "name": "stdout",
     "output_type": "stream",
     "text": [
      "b'<html:html xmlns:html=\"http://www.w3.org/1999/xhtml\">\\n  <html:body>Hello World</html:body>\\n</html:html>\\n'\n"
     ]
    }
   ],
   "source": [
    "from lxml import etree\n",
    "\n",
    "xhtml = etree.Element(\"{http://www.w3.org/1999/xhtml}html\")\n",
    "body = etree.SubElement(xhtml, \"{http://www.w3.org/1999/xhtml}body\")\n",
    "body.text = \"Hello World\"\n",
    "\n",
    "print(etree.tostring(xhtml, pretty_print=True))"
   ]
  },
  {
   "cell_type": "code",
   "execution_count": 127,
   "metadata": {
    "collapsed": false
   },
   "outputs": [
    {
     "name": "stdout",
     "output_type": "stream",
     "text": [
      "b'<html xmlns=\"http://www.w3.org/1999/xhtml\">\\n  <body>Hello World</body>\\n</html>\\n'\n",
      "None\n",
      "<Element {http://www.w3.org/1999/xhtml}body at 0x5f7bb88>\n"
     ]
    }
   ],
   "source": [
    "from lxml import etree\n",
    "\n",
    "XHTML_NAMESPACE = \"http://www.w3.org/1999/xhtml\"\n",
    "XHTML = \"{%s}\" % XHTML_NAMESPACE\n",
    "\n",
    "NSMAP = {None : XHTML_NAMESPACE} # the default namespace (no prefix)\n",
    "\n",
    "xhtml = etree.Element(XHTML + \"html\", nsmap=NSMAP) # lxml only!\n",
    "body = etree.SubElement(xhtml, XHTML + \"body\", nsmap=NSMAP)\n",
    "body.text = \"Hello World\"\n",
    "\n",
    "print(etree.tostring(xhtml, pretty_print=True))\n",
    "print(xhtml.find('body'))\n",
    "print(xhtml.find(XHTML + \"body\"))"
   ]
  },
  {
   "cell_type": "code",
   "execution_count": 119,
   "metadata": {
    "collapsed": false
   },
   "outputs": [
    {
     "name": "stdout",
     "output_type": "stream",
     "text": [
      "html\n",
      "http://www.w3.org/1999/xhtml\n",
      "{http://www.w3.org/1999/xhtml}html\n",
      "html\n",
      "http://www.w3.org/1999/xhtml\n",
      "html\n",
      "{http://www.w3.org/1999/xhtml}script\n",
      "{http://www.w3.org/1999/xhtml}script\n"
     ]
    }
   ],
   "source": [
    "tag = etree.QName('http://www.w3.org/1999/xhtml', 'html')\n",
    "print(tag.localname)\n",
    "print(tag.namespace)\n",
    "print(tag.text)\n",
    "\n",
    "\n",
    "tag = etree.QName('{http://www.w3.org/1999/xhtml}html')\n",
    "print(tag.localname)\n",
    "\n",
    "print(tag.namespace)\n",
    "\n",
    "\n",
    "root = etree.Element('{http://www.w3.org/1999/xhtml}html')\n",
    "tag = etree.QName(root)\n",
    "print(tag.localname)\n",
    "\n",
    "\n",
    "tag = etree.QName(root, 'script')\n",
    "print(tag.text)\n",
    "\n",
    "tag = etree.QName('{http://www.w3.org/1999/xhtml}html', 'script')\n",
    "print(tag.text)"
   ]
  },
  {
   "cell_type": "code",
   "execution_count": 123,
   "metadata": {
    "collapsed": false
   },
   "outputs": [
    {
     "name": "stdout",
     "output_type": "stream",
     "text": [
      "html\n",
      "http://www.w3.org/1999/xhtml\n",
      "{http://www.w3.org/1999/xhtml}html\n",
      "html\n",
      "http://www.w3.org/1999/xhtml\n",
      "{http://www.w3.org/1999/xhtml}html\n"
     ]
    }
   ],
   "source": [
    "# localname, namespace, text\n",
    "from lxml import etree\n",
    "\n",
    "tag = etree.QName('http://www.w3.org/1999/xhtml', 'html')\n",
    "print(tag.localname)\n",
    "print(tag.namespace)\n",
    "print(tag.text)\n",
    "\n",
    "root = etree.Element('{http://www.w3.org/1999/xhtml}html')\n",
    "tag = etree.QName(root)\n",
    "print(tag.localname)\n",
    "print(tag.namespace)\n",
    "print(tag.text)"
   ]
  },
  {
   "cell_type": "code",
   "execution_count": 197,
   "metadata": {
    "collapsed": false
   },
   "outputs": [
    {
     "name": "stdout",
     "output_type": "stream",
     "text": [
      "1\n",
      "2\n",
      "http://a.b/c\n",
      "http://b.c/d\n",
      "b'<root xmlns:a=\"http://a.b/c\">\\n  <child xmlns:b=\"http://b.c/d\"/>\\n</root>\\n'\n",
      "[<Element child at 0x54a2308>]\n",
      "root\n",
      "child\n"
     ]
    }
   ],
   "source": [
    "from lxml import etree\n",
    "\n",
    "root = etree.Element('root', nsmap={'a': 'http://a.b/c'})\n",
    "child = etree.SubElement(root, 'child',\n",
    "                             nsmap={'b': 'http://b.c/d'})\n",
    "print(len(root.nsmap))\n",
    "print(len(child.nsmap))\n",
    "print(child.nsmap['a'])\n",
    "print(child.nsmap['b'])\n",
    "\n",
    "\n",
    "print(etree.tostring(root, pretty_print=True))\n",
    "print(root.findall('child'))\n",
    "for i in root.iter():\n",
    "    print(i.tag)"
   ]
  },
  {
   "cell_type": "code",
   "execution_count": 208,
   "metadata": {
    "collapsed": false
   },
   "outputs": [
    {
     "name": "stdout",
     "output_type": "stream",
     "text": [
      "<Element {http://codespeak.net/ns/test1}foo at 0x5fe2948>\n",
      "b'<a:foo xmlns:a=\"http://codespeak.net/ns/test1\" xmlns:b=\"http://codespeak.net/ns/test2\">\\n<b:bar>Text</b:bar>\\n</a:foo>'\n",
      "{'a': 'http://codespeak.net/ns/test1', 'b': 'http://codespeak.net/ns/test2'}\n",
      "<Element {http://codespeak.net/ns/test2}bar at 0x5fe2cc8>\n",
      "[<Element {http://codespeak.net/ns/test2}bar at 0x5fe2c88>]\n"
     ]
    }
   ],
   "source": [
    "import io\n",
    "fs = '''\n",
    "<a:foo xmlns:a=\"http://codespeak.net/ns/test1\"\n",
    "        xmlns:b=\"http://codespeak.net/ns/test2\">\n",
    "<b:bar>Text</b:bar>\n",
    "</a:foo> '''\n",
    "f = io.StringIO(fs)\n",
    "doc = etree.parse(f)\n",
    "\n",
    "foo = doc.getroot()\n",
    "print(foo)\n",
    "print(etree.tostring(foo))\n",
    "print(foo.nsmap)\n",
    "print(foo.find('b:bar', foo.nsmap))\n",
    "print(foo.findall('b:bar', foo.nsmap))"
   ]
  },
  {
   "cell_type": "code",
   "execution_count": 217,
   "metadata": {
    "collapsed": false
   },
   "outputs": [
    {
     "name": "stdout",
     "output_type": "stream",
     "text": [
      "<Element a at 0x5fe7e48>\n",
      "b'<a><b/></a>'\n",
      "<Element a at 0x5fe7e48>\n",
      "[<Element b at 0x5fe7948>]\n"
     ]
    }
   ],
   "source": [
    "import io\n",
    "fs = '''<a><b></b></a>'''\n",
    "f = io.StringIO(fs)\n",
    "doc = etree.parse(f)\n",
    "\n",
    "foo = doc.getroot()\n",
    "print(foo)\n",
    "print(etree.tostring(foo))\n",
    "\n",
    "for i in doc.iter('a'):\n",
    "    print(i)\n",
    "print(foo.findall('b'))"
   ]
  },
  {
   "cell_type": "code",
   "execution_count": 220,
   "metadata": {
    "collapsed": false
   },
   "outputs": [
    {
     "name": "stdout",
     "output_type": "stream",
     "text": [
      "1\n",
      "{http://codespeak.net/ns/test2}bar\n",
      "Text\n"
     ]
    }
   ],
   "source": [
    "import io\n",
    "fs = '''\n",
    "<a:foo xmlns:a=\"http://codespeak.net/ns/test1\"\n",
    "        xmlns:b=\"http://codespeak.net/ns/test2\">\n",
    "<b:bar>Text</b:bar>\n",
    "</a:foo> '''\n",
    "\n",
    "f = io.StringIO(fs)\n",
    "doc = etree.parse(f)\n",
    "\n",
    "r = doc.xpath('/x:foo/b:bar',\n",
    "              namespaces={'x': 'http://codespeak.net/ns/test1',\n",
    "                          'b': 'http://codespeak.net/ns/test2'})\n",
    "print(len(r))\n",
    "print(r[0].tag)\n",
    "print(r[0].text)"
   ]
  },
  {
   "cell_type": "code",
   "execution_count": 233,
   "metadata": {
    "collapsed": false
   },
   "outputs": [
    {
     "name": "stdout",
     "output_type": "stream",
     "text": [
      "<class 'lxml.etree.XPath'>\n",
      "['world', 'TEXT', 'hello']\n",
      "hello\n",
      "text tag <Element b at 0x5f09ac8>\n",
      "hello\n",
      "TEXT\n",
      "False\n"
     ]
    }
   ],
   "source": [
    "from lxml import etree\n",
    "root = etree.XML(\"<root>world<a>TEXT</a><b>hello</b></root>\")\n",
    "\n",
    "find_text = etree.XPath(\"//text()\")\n",
    "print(type(find_text))\n",
    "print(find_text(root))\n",
    "\n",
    "text = find_text(root)[2]\n",
    "print(text)\n",
    "\n",
    "print(\"text tag\",text.getparent())\n",
    "print(text.getparent().text)\n",
    "\n",
    "#string으로 처리하기\n",
    "find_text = etree.XPath(\"//text()\", smart_strings=False)\n",
    "ext = find_text(root)[1]\n",
    "print(ext)\n",
    "print(hasattr(ext, 'getparent'))"
   ]
  },
  {
   "cell_type": "code",
   "execution_count": 245,
   "metadata": {
    "collapsed": false
   },
   "outputs": [
    {
     "name": "stdout",
     "output_type": "stream",
     "text": [
      "[<Element div at 0x5f1f7c8>]\n"
     ]
    }
   ],
   "source": [
    "from lxml import etree\n",
    "import io\n",
    "\n",
    "fs = '''<div id=\"outer\">\n",
    "            <div id=\"inner\" class=\"content body\">\n",
    "                    text\n",
    "            </div>\n",
    "        </div>'''\n",
    "\n",
    "f = io.StringIO(fs)\n",
    "\n",
    "doc = etree.parse(f)\n",
    "\n",
    "sel = doc.xpath(\"//div[@class='content body']\")\n",
    "print(sel)"
   ]
  },
  {
   "cell_type": "code",
   "execution_count": 239,
   "metadata": {
    "collapsed": false
   },
   "outputs": [
    {
     "data": {
      "text/plain": [
       "['AncestorsIterator',\n",
       " 'AttributeBasedElementClassLookup',\n",
       " 'C14NError',\n",
       " 'CDATA',\n",
       " 'Comment',\n",
       " 'CommentBase',\n",
       " 'CustomElementClassLookup',\n",
       " 'DEBUG',\n",
       " 'DTD',\n",
       " 'DTDError',\n",
       " 'DTDParseError',\n",
       " 'DTDValidateError',\n",
       " 'DocInfo',\n",
       " 'DocumentInvalid',\n",
       " 'ETCompatXMLParser',\n",
       " 'ETXPath',\n",
       " 'Element',\n",
       " 'ElementBase',\n",
       " 'ElementChildIterator',\n",
       " 'ElementClassLookup',\n",
       " 'ElementDefaultClassLookup',\n",
       " 'ElementDepthFirstIterator',\n",
       " 'ElementNamespaceClassLookup',\n",
       " 'ElementTextIterator',\n",
       " 'ElementTree',\n",
       " 'Entity',\n",
       " 'EntityBase',\n",
       " 'Error',\n",
       " 'ErrorDomains',\n",
       " 'ErrorLevels',\n",
       " 'ErrorTypes',\n",
       " 'Extension',\n",
       " 'FallbackElementClassLookup',\n",
       " 'FunctionNamespace',\n",
       " 'HTML',\n",
       " 'HTMLParser',\n",
       " 'HTMLPullParser',\n",
       " 'LIBXML_COMPILED_VERSION',\n",
       " 'LIBXML_VERSION',\n",
       " 'LIBXSLT_COMPILED_VERSION',\n",
       " 'LIBXSLT_VERSION',\n",
       " 'LXML_VERSION',\n",
       " 'LxmlError',\n",
       " 'LxmlRegistryError',\n",
       " 'LxmlSyntaxError',\n",
       " 'NamespaceRegistryError',\n",
       " 'PI',\n",
       " 'PIBase',\n",
       " 'ParseError',\n",
       " 'ParserBasedElementClassLookup',\n",
       " 'ParserError',\n",
       " 'ProcessingInstruction',\n",
       " 'PyErrorLog',\n",
       " 'PythonElementClassLookup',\n",
       " 'QName',\n",
       " 'RelaxNG',\n",
       " 'RelaxNGError',\n",
       " 'RelaxNGErrorTypes',\n",
       " 'RelaxNGParseError',\n",
       " 'RelaxNGValidateError',\n",
       " 'Resolver',\n",
       " 'Schematron',\n",
       " 'SchematronError',\n",
       " 'SchematronParseError',\n",
       " 'SchematronValidateError',\n",
       " 'SerialisationError',\n",
       " 'SiblingsIterator',\n",
       " 'SubElement',\n",
       " 'TreeBuilder',\n",
       " 'XInclude',\n",
       " 'XIncludeError',\n",
       " 'XML',\n",
       " 'XMLDTDID',\n",
       " 'XMLID',\n",
       " 'XMLParser',\n",
       " 'XMLPullParser',\n",
       " 'XMLSchema',\n",
       " 'XMLSchemaError',\n",
       " 'XMLSchemaParseError',\n",
       " 'XMLSchemaValidateError',\n",
       " 'XMLSyntaxError',\n",
       " 'XMLTreeBuilder',\n",
       " 'XPath',\n",
       " 'XPathDocumentEvaluator',\n",
       " 'XPathElementEvaluator',\n",
       " 'XPathError',\n",
       " 'XPathEvalError',\n",
       " 'XPathEvaluator',\n",
       " 'XPathFunctionError',\n",
       " 'XPathResultError',\n",
       " 'XPathSyntaxError',\n",
       " 'XSLT',\n",
       " 'XSLTAccessControl',\n",
       " 'XSLTApplyError',\n",
       " 'XSLTError',\n",
       " 'XSLTExtension',\n",
       " 'XSLTExtensionError',\n",
       " 'XSLTParseError',\n",
       " 'XSLTSaveError',\n",
       " '_Attrib',\n",
       " '_BaseErrorLog',\n",
       " '_Comment',\n",
       " '_Document',\n",
       " '_DomainErrorLog',\n",
       " '_Element',\n",
       " '_ElementIterator',\n",
       " '_ElementMatchIterator',\n",
       " '_ElementStringResult',\n",
       " '_ElementTagMatcher',\n",
       " '_ElementTree',\n",
       " '_ElementUnicodeResult',\n",
       " '_Entity',\n",
       " '_ErrorLog',\n",
       " '_FeedParser',\n",
       " '_IDDict',\n",
       " '_ListErrorLog',\n",
       " '_LogEntry',\n",
       " '_ProcessingInstruction',\n",
       " '_RotatingErrorLog',\n",
       " '_SaxParserTarget',\n",
       " '_TargetParserResult',\n",
       " '_Validator',\n",
       " '_XPathEvaluatorBase',\n",
       " '_XSLTProcessingInstruction',\n",
       " '_XSLTResultTree',\n",
       " '__all__',\n",
       " '__builtins__',\n",
       " '__doc__',\n",
       " '__docformat__',\n",
       " '__file__',\n",
       " '__loader__',\n",
       " '__name__',\n",
       " '__package__',\n",
       " '__pyx_capi__',\n",
       " '__spec__',\n",
       " '__test__',\n",
       " '__version__',\n",
       " 'cleanup_namespaces',\n",
       " 'clear_error_log',\n",
       " 'dump',\n",
       " 'fromstring',\n",
       " 'fromstringlist',\n",
       " 'get_default_parser',\n",
       " 'htmlfile',\n",
       " 'iselement',\n",
       " 'iterparse',\n",
       " 'iterwalk',\n",
       " 'memory_debugger',\n",
       " 'parse',\n",
       " 'parseid',\n",
       " 'register_namespace',\n",
       " 'set_default_parser',\n",
       " 'set_element_class_lookup',\n",
       " 'strip_attributes',\n",
       " 'strip_elements',\n",
       " 'strip_tags',\n",
       " 'tostring',\n",
       " 'tostringlist',\n",
       " 'tounicode',\n",
       " 'use_global_python_log',\n",
       " 'xmlfile']"
      ]
     },
     "execution_count": 239,
     "metadata": {},
     "output_type": "execute_result"
    }
   ],
   "source": [
    "import lxml.etree\n",
    "dir(lxml.etree)"
   ]
  },
  {
   "cell_type": "code",
   "execution_count": 246,
   "metadata": {
    "collapsed": false
   },
   "outputs": [
    {
     "name": "stdout",
     "output_type": "stream",
     "text": [
      "Writing lxml_test.xml\n"
     ]
    }
   ],
   "source": [
    "%%writefile lxml_test.xml\n",
    "<?xml version=\"1.0\"?>\n",
    "<data>\n",
    "    <country name=\"Liechtenstein\">\n",
    "        <rank>1</rank>\n",
    "        <year>2008</year>\n",
    "        <gdppc>141100</gdppc>\n",
    "        <neighbor name=\"Austria\" direction=\"E\"/>\n",
    "        <neighbor name=\"Switzerland\" direction=\"W\"/>\n",
    "    </country>\n",
    "    <country name=\"Singapore\">\n",
    "        <rank>4</rank>\n",
    "        <year>2011</year>\n",
    "        <gdppc>59900</gdppc>\n",
    "        <neighbor name=\"Malaysia\" direction=\"N\"/>\n",
    "    </country>\n",
    "    <country name=\"Panama\">\n",
    "        <rank>68</rank>\n",
    "        <year>2011</year>\n",
    "        <gdppc>13600</gdppc>\n",
    "        <neighbor name=\"Costa Rica\" direction=\"W\"/>\n",
    "        <neighbor name=\"Colombia\" direction=\"E\"/>\n",
    "    </country>\n",
    "</data>"
   ]
  },
  {
   "cell_type": "code",
   "execution_count": 248,
   "metadata": {
    "collapsed": false
   },
   "outputs": [
    {
     "name": "stdout",
     "output_type": "stream",
     "text": [
      "b'<data>\\n    <country name=\"Liechtenstein\">\\n        <rank>1</rank>\\n        <year>2008</year>\\n        <gdppc>141100</gdppc>\\n        <neighbor name=\"Austria\" direction=\"E\"/>\\n        <neighbor name=\"Switzerland\" direction=\"W\"/>\\n    </country>\\n    <country name=\"Singapore\">\\n        <rank>4</rank>\\n        <year>2011</year>\\n        <gdppc>59900</gdppc>\\n        <neighbor name=\"Malaysia\" direction=\"N\"/>\\n    </country>\\n    <country name=\"Panama\">\\n        <rank>68</rank>\\n        <year>2011</year>\\n        <gdppc>13600</gdppc>\\n        <neighbor name=\"Costa Rica\" direction=\"W\"/>\\n        <neighbor name=\"Colombia\" direction=\"E\"/>\\n    </country>\\n</data>'\n"
     ]
    }
   ],
   "source": [
    "import lxml.etree as ET\n",
    "tree = ET.parse('lxml_test.xml')\n",
    "root = tree.getroot()\n",
    "print(ET.tostring(root))"
   ]
  },
  {
   "cell_type": "code",
   "execution_count": 268,
   "metadata": {
    "collapsed": false
   },
   "outputs": [
    {
     "name": "stdout",
     "output_type": "stream",
     "text": [
      "[<Element year at 0x54c5488>,\n",
      " <Element year at 0x54c5448>,\n",
      " <Element year at 0x54c5148>]\n",
      "[<Element country at 0x54c5108>,\n",
      " <Element country at 0x54c5488>,\n",
      " <Element country at 0x54c5148>]\n",
      "[<Element country at 0x54c5148>]\n"
     ]
    }
   ],
   "source": [
    "import lxml.etree as ET\n",
    "import pprint as pp\n",
    "\n",
    "tree = ET.parse('lxml_test.xml')\n",
    "root = tree.getroot()\n",
    "\n",
    "pp.pprint(root.findall(\".//year\"))\n",
    "pp.pprint(root.findall(\".//year/..\"))\n",
    "# Nodes with name='Singapore' that have a 'year' child\n",
    "pp.pprint(root.findall(\".//year/..[@name='Singapore']\"))"
   ]
  },
  {
   "cell_type": "code",
   "execution_count": 269,
   "metadata": {
    "collapsed": false
   },
   "outputs": [
    {
     "name": "stdout",
     "output_type": "stream",
     "text": [
      "[<Element country at 0x56e2b88>,\n",
      " <Element rank at 0x56e2e88>,\n",
      " <Element year at 0x56e2cc8>,\n",
      " <Element gdppc at 0x56e2f88>,\n",
      " <Element neighbor at 0x56e2b08>,\n",
      " <Element neighbor at 0x56e2108>,\n",
      " <Element country at 0x56e2648>,\n",
      " <Element rank at 0x56e2488>,\n",
      " <Element year at 0x56e29c8>,\n",
      " <Element gdppc at 0x56e2408>,\n",
      " <Element neighbor at 0x56e2948>,\n",
      " <Element country at 0x56e2588>,\n",
      " <Element rank at 0x56e2788>,\n",
      " <Element year at 0x56e2988>,\n",
      " <Element gdppc at 0x56e2388>,\n",
      " <Element neighbor at 0x56e27c8>,\n",
      " <Element neighbor at 0x56e2448>]\n",
      "[<Element country at 0x56e2cc8>]\n",
      "[<Element year at 0x56e2108>]\n"
     ]
    }
   ],
   "source": [
    "import lxml.etree as ET\n",
    "import pprint as pp\n",
    "\n",
    "tree = ET.parse('lxml_test.xml')\n",
    "root = tree.getroot()\n",
    "\n",
    "pp.pprint(root.findall(\".//*\"))\n",
    "pp.pprint(root.findall(\".//*[@name='Singapore']\"))\n",
    "# 'year' nodes that are children of nodes with name='Singapore'\n",
    "pp.pprint(root.findall(\".//*[@name='Singapore']/year\"))"
   ]
  },
  {
   "cell_type": "code",
   "execution_count": 270,
   "metadata": {
    "collapsed": false
   },
   "outputs": [
    {
     "name": "stdout",
     "output_type": "stream",
     "text": [
      "[<Element neighbor at 0x56e29c8>,\n",
      " <Element neighbor at 0x56e2408>,\n",
      " <Element neighbor at 0x56e2948>,\n",
      " <Element neighbor at 0x56e2248>,\n",
      " <Element neighbor at 0x56e2588>]\n",
      "[<Element neighbor at 0x56e2988>, <Element neighbor at 0x56e2408>]\n"
     ]
    }
   ],
   "source": [
    "import lxml.etree as ET\n",
    "import pprint as pp\n",
    "\n",
    "tree = ET.parse('lxml_test.xml')\n",
    "root = tree.getroot()\n",
    "\n",
    "pp.pprint(root.findall(\".//neighbor\"))\n",
    "# All 'neighbor' nodes that are the second child of their parent\n",
    "pp.pprint(root.findall(\".//neighbor[2]\"))"
   ]
  },
  {
   "cell_type": "code",
   "execution_count": 272,
   "metadata": {
    "collapsed": false
   },
   "outputs": [
    {
     "name": "stdout",
     "output_type": "stream",
     "text": [
      "[<Element data at 0x56e2588>]\n"
     ]
    }
   ],
   "source": [
    "import lxml.etree as ET\n",
    "import pprint as pp\n",
    "\n",
    "tree = ET.parse('lxml_test.xml')\n",
    "root = tree.getroot()\n",
    "# Top-level elements\n",
    "pp.pprint(root.findall(\".\"))"
   ]
  },
  {
   "cell_type": "code",
   "execution_count": 273,
   "metadata": {
    "collapsed": false
   },
   "outputs": [
    {
     "name": "stdout",
     "output_type": "stream",
     "text": [
      "[<Element country at 0x56e20c8>,\n",
      " <Element country at 0x56e23c8>,\n",
      " <Element country at 0x56e2208>]\n"
     ]
    }
   ],
   "source": [
    "import lxml.etree as ET\n",
    "import pprint as pp\n",
    "\n",
    "tree = ET.parse('lxml_test.xml')\n",
    "root = tree.getroot()\n",
    "\n",
    "\n",
    "# All country' children of the top-level\n",
    "# elements\n",
    "pp.pprint(root.findall(\"./country\"))"
   ]
  },
  {
   "cell_type": "code",
   "execution_count": 271,
   "metadata": {
    "collapsed": false
   },
   "outputs": [
    {
     "name": "stdout",
     "output_type": "stream",
     "text": [
      "[<Element neighbor at 0x56e2048>,\n",
      " <Element neighbor at 0x56e2e08>,\n",
      " <Element neighbor at 0x56e2848>,\n",
      " <Element neighbor at 0x56e2388>,\n",
      " <Element neighbor at 0x56e20c8>]\n"
     ]
    }
   ],
   "source": [
    "import lxml.etree as ET\n",
    "import pprint as pp\n",
    "\n",
    "tree = ET.parse('lxml_test.xml')\n",
    "root = tree.getroot()\n",
    "\n",
    "\n",
    "# All 'neighbor' grand-children of 'country' children of the top-level\n",
    "# elements\n",
    "pp.pprint(root.findall(\"./country/neighbor\"))\n"
   ]
  },
  {
   "cell_type": "code",
   "execution_count": 277,
   "metadata": {
    "collapsed": false
   },
   "outputs": [
    {
     "name": "stdout",
     "output_type": "stream",
     "text": [
      "b'<html><head><title>Your page title here</title><link href=\"mystyle.css\" rel=\"stylesheet\" type=\"text/css\"/></head><body/></html>'\n"
     ]
    }
   ],
   "source": [
    "from lxml import etree\n",
    "#Root 생성\n",
    "page = etree.Element('html')\n",
    "#xml 문서 tree 처리\n",
    "doc = etree.ElementTree(page)\n",
    "\n",
    "#sub element 생성\n",
    "headElt = etree.SubElement(page, 'head')\n",
    "bodyElt = etree.SubElement(page, 'body')\n",
    "\n",
    "#sub element의 sub element 생성\n",
    "title = etree.SubElement(headElt, 'title')\n",
    "#sub element의 sub element의 text 추가\n",
    "title.text = 'Your page title here'\n",
    "\n",
    "#sub element의 sub element의 속성 부여하고 생성\n",
    "linkElt = etree.SubElement(headElt, 'link', rel='stylesheet',\n",
    "    href='mystyle.css', type='text/css')\n",
    "\n",
    "# tree를 이용해서 파일처리\n",
    "outFile = open('homemade.xml', 'wb')\n",
    "doc.write(outFile)\n",
    "\n",
    "with open('homemade.xml', 'rb') as f :\n",
    "    for i in f :\n",
    "        print(i)"
   ]
  },
  {
   "cell_type": "code",
   "execution_count": 281,
   "metadata": {
    "collapsed": false
   },
   "outputs": [
    {
     "name": "stdout",
     "output_type": "stream",
     "text": [
      "5\n",
      "b'SGVsbG8='\n",
      "8\n"
     ]
    }
   ],
   "source": [
    "import base64\n",
    "\n",
    "print(len(b'hello'))\n",
    "print(base64.b64encode(b'Hello'))\n",
    "print(len(base64.b64encode(b'Hello')))"
   ]
  },
  {
   "cell_type": "code",
   "execution_count": 287,
   "metadata": {
    "collapsed": false
   },
   "outputs": [
    {
     "name": "stdout",
     "output_type": "stream",
     "text": [
      "가을\n",
      "가을\n"
     ]
    }
   ],
   "source": [
    "import base64\n",
    "s = \"가을\"\n",
    "print(s)\n",
    "#bytes로 변환\n",
    "se = s.encode(\"utf-8\")\n",
    "# b64로 변환\n",
    "sebe = base64.b64encode(se)\n",
    "# 다시 bytes로 변환\n",
    "sebd = base64.b64decode(sebe)\n",
    "#unicode로 변환\n",
    "print(sebd.decode(\"utf-8\"))"
   ]
  },
  {
   "cell_type": "code",
   "execution_count": 295,
   "metadata": {
    "collapsed": false
   },
   "outputs": [
    {
     "name": "stdout",
     "output_type": "stream",
     "text": [
      "77\n",
      "0b1001101\n",
      "97\n",
      "0b1100001\n",
      "110\n",
      "0b1101110\n",
      "b'TWFu'\n"
     ]
    }
   ],
   "source": [
    "import base64\n",
    "\n",
    "print(ord('M'))\n",
    "print(bin(ord('M')))\n",
    "print(ord('a'))\n",
    "print(bin(ord('a')))\n",
    "print(ord('n'))\n",
    "print(bin(ord('n')))\n",
    "print(base64.b64encode(b\"Man\"))"
   ]
  },
  {
   "cell_type": "code",
   "execution_count": 300,
   "metadata": {
    "collapsed": false
   },
   "outputs": [
    {
     "name": "stdout",
     "output_type": "stream",
     "text": [
      "b'*\\x00\\x00\\x00\\x15\\x14\\x13\\x12'\n",
      "b'\\x15\\x14\\x13\\x12*'\n",
      "8\n",
      "5\n"
     ]
    }
   ],
   "source": [
    "import struct\n",
    "\n",
    "print(struct.pack('ci', b'*', 0x12131415))\n",
    "\n",
    "print(struct.pack('ic', 0x12131415, b'*'))\n",
    "\n",
    "print(struct.calcsize('ci'))\n",
    "\n",
    "print(struct.calcsize('ic'))"
   ]
  },
  {
   "cell_type": "code",
   "execution_count": 299,
   "metadata": {
    "collapsed": false
   },
   "outputs": [
    {
     "name": "stdout",
     "output_type": "stream",
     "text": [
      "Help on built-in function pack in module _struct:\n",
      "\n",
      "pack(...)\n",
      "    pack(fmt, v1, v2, ...) -> bytes\n",
      "    \n",
      "    Return a bytes object containing the values v1, v2, ... packed according\n",
      "    to the format string fmt.  See help(struct) for more on format strings.\n",
      "\n"
     ]
    }
   ],
   "source": [
    "help(struct.pack)"
   ]
  },
  {
   "cell_type": "code",
   "execution_count": 305,
   "metadata": {
    "collapsed": false
   },
   "outputs": [
    {
     "name": "stdout",
     "output_type": "stream",
     "text": [
      "b'*\\x00\\x00\\x00\\x15\\x14\\x13\\x12'\n",
      "b'\\x15\\x14\\x13\\x12*'\n"
     ]
    }
   ],
   "source": [
    "# 문자와 숫자는 우측\n",
    "a = struct.Struct('ci')\n",
    "\n",
    "print(a.pack( b'*', 0x12131415))\n",
    "\n",
    "# 숫자와 문자는 좌측\n",
    "b = struct.Struct('ic')\n",
    "\n",
    "print(b.pack(0x12131415, b'*'))"
   ]
  },
  {
   "cell_type": "code",
   "execution_count": 324,
   "metadata": {
    "collapsed": false
   },
   "outputs": [
    {
     "name": "stdout",
     "output_type": "stream",
     "text": [
      "b'\\x01\\x00\\x00\\x00\\x02\\x00\\x00\\x00\\x03\\x00\\x00\\x00'\n",
      "12\n"
     ]
    }
   ],
   "source": [
    "print(struct.pack('llh0l', 1, 2, 3))\n",
    "print(struct.calcsize('llh0l'))"
   ]
  },
  {
   "cell_type": "code",
   "execution_count": 326,
   "metadata": {
    "collapsed": false
   },
   "outputs": [
    {
     "name": "stdout",
     "output_type": "stream",
     "text": [
      "b'\\x00\\x00\\x00\\x01\\x00\\x00\\x00\\x02\\x00\\x03'\n",
      "10\n"
     ]
    }
   ],
   "source": [
    "print(struct.pack('>llh0l', 1, 2, 3))\n",
    "print(struct.calcsize('>llh0l'))"
   ]
  },
  {
   "cell_type": "code",
   "execution_count": 329,
   "metadata": {
    "collapsed": false
   },
   "outputs": [
    {
     "name": "stdout",
     "output_type": "stream",
     "text": [
      "5\n",
      "104\n",
      "0b1101000\n",
      "b'NBSWY3DP'\n",
      "8\n",
      "b'hello'\n"
     ]
    }
   ],
   "source": [
    "s = b'hello'\n",
    "print(len(s))\n",
    "print(ord('h'))\n",
    "print(bin(ord('h')))\n",
    "h = base64.b32encode(s)\n",
    "print(h)\n",
    "print(len(h))\n",
    "\n",
    "print(base64.b32decode(h))"
   ]
  },
  {
   "cell_type": "code",
   "execution_count": 331,
   "metadata": {
    "collapsed": false
   },
   "outputs": [
    {
     "name": "stdout",
     "output_type": "stream",
     "text": [
      "array('u', 'abcdef')\n",
      "array('u', 'helloworld')\n",
      "h\n"
     ]
    }
   ],
   "source": [
    "import array\n",
    "a = array.array('u','abcdef')\n",
    "print(a)\n",
    "ar = array.array('u','helloworld')\n",
    "print(ar)\n",
    "\n",
    "print(ar[0])\n"
   ]
  },
  {
   "cell_type": "code",
   "execution_count": 336,
   "metadata": {
    "collapsed": false
   },
   "outputs": [
    {
     "name": "stdout",
     "output_type": "stream",
     "text": [
      "bBuhHiIlLqQfd\n"
     ]
    }
   ],
   "source": [
    "import array\n",
    "print(array.typecodes)"
   ]
  },
  {
   "cell_type": "code",
   "execution_count": 359,
   "metadata": {
    "collapsed": false
   },
   "outputs": [
    {
     "name": "stdout",
     "output_type": "stream",
     "text": [
      "array('u', 'abcdef')\n",
      "b'a\\x00b\\x00c\\x00d\\x00e\\x00f\\x00'\n",
      "99686384 6\n",
      "(108653216, 6)\n"
     ]
    }
   ],
   "source": [
    "import array\n",
    "a = array.array('u','abcdef')\n",
    "print(a)\n",
    "print(a.tobytes())\n",
    "print(id(a), len(a))\n",
    "#  (address, length) \n",
    "print(a.buffer_info())\n"
   ]
  },
  {
   "cell_type": "code",
   "execution_count": 344,
   "metadata": {
    "collapsed": false
   },
   "outputs": [
    {
     "name": "stdout",
     "output_type": "stream",
     "text": [
      "Help on method_descriptor:\n",
      "\n",
      "byteswap(self, /)\n",
      "    Byteswap all items of the array.\n",
      "    \n",
      "    If the items in the array are not 1, 2, 4, or 8 bytes in size, RuntimeError is\n",
      "    raised.\n",
      "\n"
     ]
    }
   ],
   "source": [
    "help(array.array.byteswap)"
   ]
  },
  {
   "cell_type": "code",
   "execution_count": 358,
   "metadata": {
    "collapsed": false
   },
   "outputs": [
    {
     "name": "stdout",
     "output_type": "stream",
     "text": [
      "array('u', 'abcdef')\n",
      "b'a\\x00b\\x00c\\x00d\\x00e\\x00f\\x00'\n",
      "array('u', '愀戀挀搀攀昀')\n",
      "b'\\x00a\\x00b\\x00c\\x00d\\x00e\\x00f'\n"
     ]
    }
   ],
   "source": [
    "import array\n",
    "a = array.array('u','abcdef')\n",
    "print(a)\n",
    "print(a.tobytes())\n",
    "#  1, 2, 4, or 8 bytes in size 일경우 byte 값이 변경됨\n",
    "a.byteswap()\n",
    "print(a)\n",
    "print(a.tobytes())\n"
   ]
  },
  {
   "cell_type": "code",
   "execution_count": 363,
   "metadata": {
    "collapsed": false
   },
   "outputs": [
    {
     "name": "stdout",
     "output_type": "stream",
     "text": [
      "array('u', 'abcdef')\n",
      "array('u', 'abcdefg')\n",
      "array('u', 'abcdefgabc')\n"
     ]
    }
   ],
   "source": [
    "import array\n",
    "ar = array.array('u','abcdef')\n",
    "print(ar)\n",
    "ar.append('g')\n",
    "print(ar)\n",
    "ar.extend('abc')\n",
    "print(ar)"
   ]
  },
  {
   "cell_type": "code",
   "execution_count": 361,
   "metadata": {
    "collapsed": false
   },
   "outputs": [
    {
     "name": "stdout",
     "output_type": "stream",
     "text": [
      "3\n",
      "2\n"
     ]
    }
   ],
   "source": [
    "import array\n",
    "ar = array.array('u', 'helloworld')\n",
    "print(ar.count('l'))\n",
    "print(ar.index('l'))\n"
   ]
  },
  {
   "cell_type": "code",
   "execution_count": 364,
   "metadata": {
    "collapsed": false
   },
   "outputs": [
    {
     "name": "stdout",
     "output_type": "stream",
     "text": [
      "array('u', 'helloworld!')\n",
      "array('u', 'helloworld')\n"
     ]
    }
   ],
   "source": [
    "import array\n",
    "ar = array.array('u', 'helloworld')\n",
    "ar.insert(10,'!')\n",
    "print(ar)\n",
    "ar.pop()\n",
    "print(ar)"
   ]
  },
  {
   "cell_type": "code",
   "execution_count": 367,
   "metadata": {
    "collapsed": false
   },
   "outputs": [
    {
     "name": "stdout",
     "output_type": "stream",
     "text": [
      "array('u', 'helloworld')\n",
      "array('u', 'dlrowolleh')\n"
     ]
    }
   ],
   "source": [
    "import array\n",
    "ar = array.array('u', 'helloworld!')\n",
    "ar.remove('!')\n",
    "print(ar)\n",
    "ar.reverse()\n",
    "print(ar)"
   ]
  },
  {
   "cell_type": "code",
   "execution_count": 395,
   "metadata": {
    "collapsed": false
   },
   "outputs": [
    {
     "name": "stdout",
     "output_type": "stream",
     "text": [
      "array('u', 'abc')\n",
      "array('u', 'abc')\n"
     ]
    }
   ],
   "source": [
    "import array\n",
    "a = array.array('u','abc')\n",
    "print(a)\n",
    "f = open(\"f.txt\",'wb')\n",
    "a.tofile(f)\n",
    "\n",
    "f = open(\"f.txt\",'rb')\n",
    "a = array.array('u','')\n",
    "a.fromfile(f,3)\n",
    "print(a)\n"
   ]
  },
  {
   "cell_type": "code",
   "execution_count": 394,
   "metadata": {
    "collapsed": false
   },
   "outputs": [
    {
     "ename": "AttributeError",
     "evalue": "'array.array' object has no attribute 'read'",
     "output_type": "error",
     "traceback": [
      "\u001b[0;31m---------------------------------------------------------------------------\u001b[0m",
      "\u001b[0;31mAttributeError\u001b[0m                            Traceback (most recent call last)",
      "\u001b[0;32m<ipython-input-394-e8b2a266bce6>\u001b[0m in \u001b[0;36m<module>\u001b[0;34m()\u001b[0m\n\u001b[0;32m----> 1\u001b[0;31m \u001b[0mhelp\u001b[0m\u001b[1;33m(\u001b[0m\u001b[0ma\u001b[0m\u001b[1;33m.\u001b[0m\u001b[0mread\u001b[0m\u001b[1;33m)\u001b[0m\u001b[1;33m\u001b[0m\u001b[0m\n\u001b[0m",
      "\u001b[0;31mAttributeError\u001b[0m: 'array.array' object has no attribute 'read'"
     ]
    }
   ],
   "source": [
    "help(a.read)"
   ]
  },
  {
   "cell_type": "code",
   "execution_count": 413,
   "metadata": {
    "collapsed": false
   },
   "outputs": [
    {
     "name": "stdout",
     "output_type": "stream",
     "text": [
      "b'a\\x00b\\x00c\\x00' <class 'bytes'>\n",
      "array('u', 'abc')\n"
     ]
    }
   ],
   "source": [
    "import array\n",
    "aru = array.array('u','abc')\n",
    "urs = aru.tobytes()\n",
    "print(urs, type(urs))\n",
    "arus = array.array('u','')\n",
    "arus.frombytes(urs)\n",
    "print(arus)"
   ]
  },
  {
   "cell_type": "code",
   "execution_count": 403,
   "metadata": {
    "collapsed": false
   },
   "outputs": [
    {
     "name": "stdout",
     "output_type": "stream",
     "text": [
      "Help on method_descriptor:\n",
      "\n",
      "frombytes(self, buffer, /)\n",
      "    Appends items from the string, interpreting it as an array of machine values, as if it had been read from a file using the fromfile() method).\n",
      "\n"
     ]
    }
   ],
   "source": [
    "help(array.array.frombytes)"
   ]
  },
  {
   "cell_type": "code",
   "execution_count": 415,
   "metadata": {
    "collapsed": false
   },
   "outputs": [
    {
     "name": "stdout",
     "output_type": "stream",
     "text": [
      "array('i', [1, 2, 3])\n",
      "[1, 2, 3]\n",
      "array('i', [1, 2, 3])\n"
     ]
    }
   ],
   "source": [
    "import array\n",
    "l = [1,2,3]\n",
    "al = array.array('i',l)\n",
    "print(al)\n",
    "l1= []\n",
    "l1 = al.tolist()\n",
    "print(l1)\n",
    "afl = array.array('i',[])\n",
    "afl.fromlist(l1)\n",
    "print(afl)"
   ]
  },
  {
   "cell_type": "code",
   "execution_count": 446,
   "metadata": {
    "collapsed": false
   },
   "outputs": [
    {
     "name": "stdout",
     "output_type": "stream",
     "text": [
      "array('u', 'helloworld')\n",
      "array('u', '敨汬睯牯摬')\n",
      "b'helloworld'\n"
     ]
    }
   ],
   "source": [
    "import array\n",
    "s = \"helloworld\"\n",
    "\n",
    "aru = array.array('u')\n",
    "aru.fromunicode(s)\n",
    "print(aru)\n",
    "\n",
    "# python 3 unicode를 직접 처리\n",
    "ars = array.array('u')\n",
    "ars.fromstring(s)\n",
    "print(ars)\n",
    "s = ars.tostring()\n",
    "print(s)"
   ]
  },
  {
   "cell_type": "code",
   "execution_count": 455,
   "metadata": {
    "collapsed": false
   },
   "outputs": [
    {
     "name": "stdout",
     "output_type": "stream",
     "text": [
      "array('u', 'helloworld')\n",
      "array('b', [104, 101, 108, 108, 111, 119, 111, 114, 108, 100])\n",
      "b'helloworld'\n"
     ]
    }
   ],
   "source": [
    "import array\n",
    "s = \"helloworld\"\n",
    "\n",
    "aru = array.array('u')\n",
    "aru.fromunicode(s)\n",
    "print(aru)\n",
    "\n",
    "sb = bytes(s,\"utf-8\")\n",
    "# python 3 unicode를 직접 처리\n",
    "ars = array.array('b')\n",
    "ars.fromstring(sb)\n",
    "print(ars)\n",
    "sx = ars.tostring()\n",
    "print(sx)"
   ]
  },
  {
   "cell_type": "code",
   "execution_count": 454,
   "metadata": {
    "collapsed": false
   },
   "outputs": [
    {
     "name": "stdout",
     "output_type": "stream",
     "text": [
      "b'h\\x00e\\x00l\\x00l\\x00o\\x00w\\x00o\\x00r\\x00l\\x00d\\x00'\n",
      "array('u', 'helloworld')\n"
     ]
    }
   ],
   "source": [
    "import array\n",
    "ars = array.array('u','helloworld')\n",
    "s = ars.tostring()\n",
    "print(s)\n",
    "ar5 = array.array('u')\n",
    "ar5.fromstring(s)\n",
    "print(ar5)"
   ]
  },
  {
   "cell_type": "code",
   "execution_count": 441,
   "metadata": {
    "collapsed": false
   },
   "outputs": [
    {
     "name": "stdout",
     "output_type": "stream",
     "text": [
      "2\n",
      "4\n"
     ]
    }
   ],
   "source": [
    "import array\n",
    "\n",
    "ar7 = array.array('u', u'abcd')\n",
    "print(ar7.itemsize)\n",
    "print(len(ar7))"
   ]
  },
  {
   "cell_type": "code",
   "execution_count": 443,
   "metadata": {
    "collapsed": false
   },
   "outputs": [
    {
     "name": "stdout",
     "output_type": "stream",
     "text": [
      "array('u', 'helloworld')\n",
      "helloworld\n"
     ]
    }
   ],
   "source": [
    "import array\n",
    "\n",
    "s = \"helloworld\"\n",
    "ar = array.array('u')\n",
    "ar.fromunicode(s)\n",
    "print(ar)\n",
    "x =ar.tounicode()\n",
    "print(x)\n"
   ]
  },
  {
   "cell_type": "code",
   "execution_count": 466,
   "metadata": {
    "collapsed": false
   },
   "outputs": [
    {
     "name": "stdout",
     "output_type": "stream",
     "text": [
      "b'ABcd56'\n",
      "3\n",
      "b'ABcd'\n",
      "b'AB'\n",
      "<class 'int'>\n",
      "char 1 \n",
      "char 2 M\n",
      "13877\n"
     ]
    }
   ],
   "source": [
    "import array\n",
    "\n",
    "a = array.array('H', b'ABcd56')\n",
    "print(a.tostring())\n",
    "\n",
    "#길이 및 슬라이싱 처리\n",
    "print(len(a))\n",
    "print(a[0:2].tostring())\n",
    "\n",
    "#인덱싱 처리\n",
    "print(a[:1].tostring())\n",
    "print(type(a[2]))\n",
    "print(\"char 1\",chr(a[2]//100))\n",
    "print(\"char 2\",chr(a[2]%100))\n",
    "print(a[2])"
   ]
  },
  {
   "cell_type": "code",
   "execution_count": 479,
   "metadata": {
    "collapsed": false
   },
   "outputs": [
    {
     "name": "stdout",
     "output_type": "stream",
     "text": [
      "As string: This is the array.\n",
      "As array : array('u', 'This is the array.')\n",
      "<class 'bytes'> 72\n",
      "As hex   : b'540068006900730020006900730020007400680065002000610072007200610079002e00'\n",
      "<class 'bytes'> 36\n",
      "As unhex   : b'T\\x00h\\x00i\\x00s\\x00 \\x00i\\x00s\\x00 \\x00t\\x00h\\x00e\\x00 \\x00a\\x00r\\x00r\\x00a\\x00y\\x00.\\x00'\n",
      "string 변환 : T\u0000h\u0000i\u0000s\u0000 \u0000i\u0000s\u0000 \u0000t\u0000h\u0000e\u0000 \u0000a\u0000r\u0000r\u0000a\u0000y\u0000.\u0000\n"
     ]
    }
   ],
   "source": [
    "import array\n",
    "import binascii\n",
    "\n",
    "s = 'This is the array.'\n",
    "a = array.array('u', s)\n",
    "\n",
    "print('As string:', s)\n",
    "print('As array :', a)\n",
    "\n",
    "# binary로 변환\n",
    "aa = binascii.hexlify(a)\n",
    "print(type(aa), len(aa))\n",
    "print('As hex   :', aa)\n",
    "# 다시 바이트로 변환\n",
    "bb = binascii.unhexlify(aa)\n",
    "print(type(bb), len(bb))\n",
    "print('As unhex   :', bb)\n",
    "print('string 변환 :', str(bb,encoding=\"utf-8\"))"
   ]
  },
  {
   "cell_type": "code",
   "execution_count": 469,
   "metadata": {
    "collapsed": false
   },
   "outputs": [
    {
     "data": {
      "text/plain": [
       "['Error',\n",
       " 'Incomplete',\n",
       " '__doc__',\n",
       " '__loader__',\n",
       " '__name__',\n",
       " '__package__',\n",
       " '__spec__',\n",
       " 'a2b_base64',\n",
       " 'a2b_hex',\n",
       " 'a2b_hqx',\n",
       " 'a2b_qp',\n",
       " 'a2b_uu',\n",
       " 'b2a_base64',\n",
       " 'b2a_hex',\n",
       " 'b2a_hqx',\n",
       " 'b2a_qp',\n",
       " 'b2a_uu',\n",
       " 'crc32',\n",
       " 'crc_hqx',\n",
       " 'hexlify',\n",
       " 'rlecode_hqx',\n",
       " 'rledecode_hqx',\n",
       " 'unhexlify']"
      ]
     },
     "execution_count": 469,
     "metadata": {},
     "output_type": "execute_result"
    }
   ],
   "source": [
    "dir(binascii)"
   ]
  },
  {
   "cell_type": "code",
   "execution_count": 480,
   "metadata": {
    "collapsed": false
   },
   "outputs": [
    {
     "name": "stdout",
     "output_type": "stream",
     "text": [
      "Help on built-in function hexlify in module binascii:\n",
      "\n",
      "hexlify(data, /)\n",
      "    Hexadecimal representation of binary data.\n",
      "    \n",
      "    The return value is a bytes object.\n",
      "\n"
     ]
    }
   ],
   "source": [
    "help(binascii.hexlify)"
   ]
  },
  {
   "cell_type": "code",
   "execution_count": 491,
   "metadata": {
    "collapsed": false
   },
   "outputs": [
    {
     "name": "stdout",
     "output_type": "stream",
     "text": [
      "a 0x61\n",
      "b 0x62\n",
      "c 0x63\n",
      "bytes :  b'abc'\n",
      "binary :  b'616263'\n",
      "bytes :  b'abc'\n"
     ]
    }
   ],
   "source": [
    "import binascii\n",
    "s = \"abc\"\n",
    "sb = s.encode(\"utf-8\")\n",
    "print('a', hex(ord('a')))\n",
    "print('b', hex(ord('b')))\n",
    "print('c', hex(ord('c')))\n",
    "\n",
    "print(\"bytes : \",sb)\n",
    "sbin = binascii.hexlify(sb)\n",
    "print(\"binary : \",sbin)\n",
    "print(\"bytes : \",binascii.unhexlify(sbin))"
   ]
  },
  {
   "cell_type": "code",
   "execution_count": 497,
   "metadata": {
    "collapsed": false
   },
   "outputs": [
    {
     "name": "stdout",
     "output_type": "stream",
     "text": [
      "a 0x61\n",
      "b 0x62\n",
      "c 0x63\n",
      "b'#86)C\\n'\n",
      "b'abc'\n"
     ]
    }
   ],
   "source": [
    "import binascii\n",
    "s = \"abc\"\n",
    "sb = s.encode(\"ascii\")\n",
    "print('a', hex(ord('a')))\n",
    "print('b', hex(ord('b')))\n",
    "print('c', hex(ord('c')))\n",
    "\n",
    "# bytes를 uuencode\n",
    "sauu = binascii.b2a_uu(sb)\n",
    "print(sauu)\n",
    "\n",
    "# uuencode를 bytes\n",
    "suu = binascii.a2b_uu(sauu)\n",
    "print(suu)\n"
   ]
  },
  {
   "cell_type": "code",
   "execution_count": 495,
   "metadata": {
    "collapsed": false
   },
   "outputs": [
    {
     "name": "stdout",
     "output_type": "stream",
     "text": [
      "Help on built-in function a2b_uu in module binascii:\n",
      "\n",
      "a2b_uu(data, /)\n",
      "    Decode a line of uuencoded data.\n",
      "\n"
     ]
    }
   ],
   "source": [
    "help(binascii.a2b_uu)"
   ]
  },
  {
   "cell_type": "code",
   "execution_count": 500,
   "metadata": {
    "collapsed": false
   },
   "outputs": [
    {
     "name": "stdout",
     "output_type": "stream",
     "text": [
      "a 0x61\n",
      "b 0x62\n",
      "c 0x63\n",
      "b'616263'\n",
      "b'abc'\n"
     ]
    }
   ],
   "source": [
    "import binascii\n",
    "s = \"abc\"\n",
    "sb = s.encode(\"ascii\")\n",
    "print('a', hex(ord('a')))\n",
    "print('b', hex(ord('b')))\n",
    "print('c', hex(ord('c')))\n",
    "# bytes -> hex\n",
    "bah = binascii.b2a_hex(sb)\n",
    "print(bah)\n",
    "\n",
    "# hex --> bytes\n",
    "bab = binascii.a2b_hex(bah)\n",
    "print(bab)"
   ]
  },
  {
   "cell_type": "code",
   "execution_count": 503,
   "metadata": {
    "collapsed": false
   },
   "outputs": [
    {
     "name": "stdout",
     "output_type": "stream",
     "text": [
      "a 0x61\n",
      "b 0x62\n",
      "c 0x63\n",
      "b'YWJj\\n'\n",
      "b'abc'\n"
     ]
    }
   ],
   "source": [
    "import binascii\n",
    "s = \"abc\"\n",
    "sb = s.encode(\"ascii\")\n",
    "print('a', hex(ord('a')))\n",
    "print('b', hex(ord('b')))\n",
    "print('c', hex(ord('c')))\n",
    "# bytes -> base64\n",
    "bab = binascii.b2a_base64(sb)\n",
    "print(bab)\n",
    "\n",
    "# base64 -> bytes \n",
    "bab = binascii.a2b_base64(bab)\n",
    "print(bab)"
   ]
  },
  {
   "cell_type": "code",
   "execution_count": 522,
   "metadata": {
    "collapsed": false
   },
   "outputs": [
    {
     "name": "stdout",
     "output_type": "stream",
     "text": [
      "a 0x61\n",
      "b 0x62\n",
      "c 0x63\n",
      "b'abc'\n",
      "b'(This file must be converted with BinHex 4.0)\\r\\r:\"QCh,Q*TEJ\"849K82j!%!*!&!`#3\"\"6kB@*MRGB!!!:\\n'\n",
      "b'abc'\n"
     ]
    }
   ],
   "source": [
    "\n",
    "import binhex\n",
    "s = \"abc\"\n",
    "sb = s.encode(\"ascii\")\n",
    "print('a', hex(ord('a')))\n",
    "print('b', hex(ord('b')))\n",
    "print('c', hex(ord('c')))\n",
    "\n",
    "fw = open(\"fw.bin\",\"rb\")\n",
    "print(fw.read())\n",
    "fw.close()\n",
    "\n",
    "binhex.binhex(\"fw.bin\",\"fr.bin\")\n",
    "\n",
    "f = open(\"fr.bin\",\"rb\")\n",
    "print(f.read())\n",
    "f.close()\n",
    "\n",
    "binhex.hexbin(\"fr.bin\", \"fr.hex\")\n",
    "f = open(\"fr.hex\",\"rb\")\n",
    "print(f.read())\n",
    "f.close()"
   ]
  },
  {
   "cell_type": "code",
   "execution_count": 507,
   "metadata": {
    "collapsed": false
   },
   "outputs": [
    {
     "name": "stdout",
     "output_type": "stream",
     "text": [
      "Help on function binhex in module binhex:\n",
      "\n",
      "binhex(inp, out)\n",
      "    binhex(infilename, outfilename): create binhex-encoded copy of a file\n",
      "\n"
     ]
    }
   ],
   "source": [
    "help(binhex.binhex)"
   ]
  },
  {
   "cell_type": "code",
   "execution_count": 508,
   "metadata": {
    "collapsed": false
   },
   "outputs": [
    {
     "name": "stdout",
     "output_type": "stream",
     "text": [
      "Help on class BytesIO in module io:\n",
      "\n",
      "class BytesIO(_BufferedIOBase)\n",
      " |  Buffered I/O implementation using an in-memory bytes buffer.\n",
      " |  \n",
      " |  Method resolution order:\n",
      " |      BytesIO\n",
      " |      _BufferedIOBase\n",
      " |      _IOBase\n",
      " |      builtins.object\n",
      " |  \n",
      " |  Methods defined here:\n",
      " |  \n",
      " |  __getstate__(...)\n",
      " |  \n",
      " |  __init__(self, /, *args, **kwargs)\n",
      " |      Initialize self.  See help(type(self)) for accurate signature.\n",
      " |  \n",
      " |  __iter__(self, /)\n",
      " |      Implement iter(self).\n",
      " |  \n",
      " |  __new__(*args, **kwargs) from builtins.type\n",
      " |      Create and return a new object.  See help(type) for accurate signature.\n",
      " |  \n",
      " |  __next__(self, /)\n",
      " |      Implement next(self).\n",
      " |  \n",
      " |  __setstate__(...)\n",
      " |  \n",
      " |  __sizeof__(...)\n",
      " |      __sizeof__() -> int\n",
      " |      size of object in memory, in bytes\n",
      " |  \n",
      " |  close(self, /)\n",
      " |      Disable all I/O operations.\n",
      " |  \n",
      " |  flush(self, /)\n",
      " |      Does nothing.\n",
      " |  \n",
      " |  getbuffer(self, /)\n",
      " |      Get a read-write view over the contents of the BytesIO object.\n",
      " |  \n",
      " |  getvalue(self, /)\n",
      " |      Retrieve the entire contents of the BytesIO object.\n",
      " |  \n",
      " |  isatty(self, /)\n",
      " |      Always returns False.\n",
      " |      \n",
      " |      BytesIO objects are not connected to a TTY-like device.\n",
      " |  \n",
      " |  read(self, size=None, /)\n",
      " |      Read at most size bytes, returned as a bytes object.\n",
      " |      \n",
      " |      If the size argument is negative, read until EOF is reached.\n",
      " |      Return an empty bytes object at EOF.\n",
      " |  \n",
      " |  read1(self, size, /)\n",
      " |      Read at most size bytes, returned as a bytes object.\n",
      " |      \n",
      " |      If the size argument is negative or omitted, read until EOF is reached.\n",
      " |      Return an empty bytes object at EOF.\n",
      " |  \n",
      " |  readable(self, /)\n",
      " |      Returns True if the IO object can be read.\n",
      " |  \n",
      " |  readinto(self, buffer, /)\n",
      " |      Read bytes into buffer.\n",
      " |      \n",
      " |      Returns number of bytes read (0 for EOF), or None if the object\n",
      " |      is set not to block and has no data to read.\n",
      " |  \n",
      " |  readline(self, size=None, /)\n",
      " |      Next line from the file, as a bytes object.\n",
      " |      \n",
      " |      Retain newline.  A non-negative size argument limits the maximum\n",
      " |      number of bytes to return (an incomplete line may be returned then).\n",
      " |      Return an empty bytes object at EOF.\n",
      " |  \n",
      " |  readlines(self, size=None, /)\n",
      " |      List of bytes objects, each a line from the file.\n",
      " |      \n",
      " |      Call readline() repeatedly and return a list of the lines so read.\n",
      " |      The optional size argument, if given, is an approximate bound on the\n",
      " |      total number of bytes in the lines returned.\n",
      " |  \n",
      " |  seek(self, pos, whence=0, /)\n",
      " |      Change stream position.\n",
      " |      \n",
      " |      Seek to byte offset pos relative to position indicated by whence:\n",
      " |           0  Start of stream (the default).  pos should be >= 0;\n",
      " |           1  Current position - pos may be negative;\n",
      " |           2  End of stream - pos usually negative.\n",
      " |      Returns the new absolute position.\n",
      " |  \n",
      " |  seekable(self, /)\n",
      " |      Returns True if the IO object can be seeked.\n",
      " |  \n",
      " |  tell(self, /)\n",
      " |      Current file position, an integer.\n",
      " |  \n",
      " |  truncate(self, size=None, /)\n",
      " |      Truncate the file to at most size bytes.\n",
      " |      \n",
      " |      Size defaults to the current file position, as returned by tell().\n",
      " |      The current file position is unchanged.  Returns the new size.\n",
      " |  \n",
      " |  writable(self, /)\n",
      " |      Returns True if the IO object can be written.\n",
      " |  \n",
      " |  write(self, b, /)\n",
      " |      Write bytes to file.\n",
      " |      \n",
      " |      Return the number of bytes written.\n",
      " |  \n",
      " |  writelines(self, lines, /)\n",
      " |      Write lines to the file.\n",
      " |      \n",
      " |      Note that newlines are not added.  lines can be any iterable object\n",
      " |      producing bytes-like objects. This is equivalent to calling write() for\n",
      " |      each element.\n",
      " |  \n",
      " |  ----------------------------------------------------------------------\n",
      " |  Data descriptors defined here:\n",
      " |  \n",
      " |  closed\n",
      " |      True if the file is closed.\n",
      " |  \n",
      " |  ----------------------------------------------------------------------\n",
      " |  Methods inherited from _BufferedIOBase:\n",
      " |  \n",
      " |  detach(self, /)\n",
      " |      Disconnect this buffer from its underlying raw stream and return it.\n",
      " |      \n",
      " |      After the raw stream has been detached, the buffer is in an unusable\n",
      " |      state.\n",
      " |  \n",
      " |  readinto1(self, buffer, /)\n",
      " |  \n",
      " |  ----------------------------------------------------------------------\n",
      " |  Methods inherited from _IOBase:\n",
      " |  \n",
      " |  __del__(...)\n",
      " |  \n",
      " |  __enter__(...)\n",
      " |  \n",
      " |  __exit__(...)\n",
      " |  \n",
      " |  fileno(self, /)\n",
      " |      Returns underlying file descriptor if one exists.\n",
      " |      \n",
      " |      OSError is raised if the IO object does not use a file descriptor.\n",
      " |  \n",
      " |  ----------------------------------------------------------------------\n",
      " |  Data descriptors inherited from _IOBase:\n",
      " |  \n",
      " |  __dict__\n",
      "\n"
     ]
    }
   ],
   "source": [
    "help(io.BytesIO)"
   ]
  },
  {
   "cell_type": "code",
   "execution_count": null,
   "metadata": {
    "collapsed": true
   },
   "outputs": [],
   "source": []
  }
 ],
 "metadata": {
  "anaconda-cloud": {},
  "kernelspec": {
   "display_name": "Python [conda root]",
   "language": "python",
   "name": "conda-root-py"
  },
  "language_info": {
   "codemirror_mode": {
    "name": "ipython",
    "version": 3
   },
   "file_extension": ".py",
   "mimetype": "text/x-python",
   "name": "python",
   "nbconvert_exporter": "python",
   "pygments_lexer": "ipython3",
   "version": "3.5.2"
  }
 },
 "nbformat": 4,
 "nbformat_minor": 1
}
